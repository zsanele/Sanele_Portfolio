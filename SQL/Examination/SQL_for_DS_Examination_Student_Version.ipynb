{
 "cells": [
  {
   "cell_type": "markdown",
   "metadata": {
    "id": "cBsBb3mO1pyC"
   },
   "source": [
    "# SQL for Data Science Exam: TMDb Database\n",
    "© Explore Data Science Academy"
   ]
  },
  {
   "cell_type": "markdown",
   "metadata": {
    "id": "FdC9DqW71pyD"
   },
   "source": [
    "## Instructions to Students\n",
    "\n",
    "This challenge is designed to determine how much you have learned so far and will test your knowledge on SQL.\n",
    "\n",
    "The answers for this challenge should be selected on Athena for each corresponding Multiple Choice Question. The questions are included in this notebook and are numbered according to the Athena questions. The options for each question have also been included.\n",
    "\n",
    "Do not add or remove cells in this notebook. Do not edit or remove the `%%sql` comment as it is required to run each cell.\n",
    "\n",
    "**_Good Luck!_**"
   ]
  },
  {
   "cell_type": "markdown",
   "metadata": {
    "id": "JCYuOfc81pyD"
   },
   "source": [
    "## Honour Code\n",
    "\n",
    "I Sanele, Zulu, confirm - by submitting this document - that the solutions in this notebook are a result of my own work and that I abide by the EDSA honour code (https://drive.google.com/file/d/1QDCjGZJ8-FmJE3bZdIQNwnJyQKPhHZBn/view?usp=sharing).\n",
    "\n",
    "Non-compliance with the honour code constitutes a material breach of contract."
   ]
  },
  {
   "cell_type": "markdown",
   "metadata": {
    "id": "LUnf5dWw1pyD"
   },
   "source": [
    "## The TMDb Database\n",
    "\n",
    "In this supplementary exam, you will be exploring the [The Movie Database](https://www.themoviedb.org/) - an online movie and TV show database, which houses some of the most popular movies and TV shows at your finger tips. The TMDb database supports 39 official languages used in over 180 countries daily, and dates all the way back to 2008. \n",
    "\n",
    "\n",
    "<img src=\"https://github.com/Explore-AI/Pictures/blob/master/sql_tmdb.jpg?raw=true\" width=80%/>\n",
    "\n",
    "\n",
    "Below is an Entity Relationship diagram(ERD) of the TMDb database:\n",
    "\n",
    "<img src=\"https://github.com/Explore-AI/Pictures/blob/master/TMDB_ER_diagram.png?raw=true\" width=70%/>\n",
    "\n",
    "As can be seen from the ER diagram, the TMDb database consists of `12 tables` containing information about movies, cast, genre and so much more.  \n",
    "\n",
    "Let's get started!"
   ]
  },
  {
   "cell_type": "markdown",
   "metadata": {
    "id": "YtxNE3iD1pyD"
   },
   "source": [
    "## Loading the database\n",
    "\n",
    "Before you begin, you need to prepare your SQL environment.  You can do this by loading in the magic command `%load_ext sql`.\n",
    "\n",
    "---\n",
    "*Note: Remember that you can run the following commands to install the SQL extension dependency locally:* \n",
    "     \n",
    " - `pip install sqlalchemy`\n",
    " - `pip install ipython-sql`\n",
    " - `pip install pymysql`\n",
    "\n",
    "Or, for running on **Google Colab**\n",
    "  - `pip install pymysql`\n",
    "---"
   ]
  },
  {
   "cell_type": "code",
   "execution_count": 1,
   "metadata": {
    "id": "LsCAy8Bq1pyD"
   },
   "outputs": [],
   "source": [
    "%load_ext sql"
   ]
  },
  {
   "cell_type": "markdown",
   "metadata": {},
   "source": [
    "Next, go ahead and load in your database. To do this you will need to ensure you have downloaded the `TMDB.db` sqlite file from Athena and have stored it in a known location."
   ]
  },
  {
   "cell_type": "code",
   "execution_count": 2,
   "metadata": {
    "colab": {
     "base_uri": "https://localhost:8080/",
     "height": 35
    },
    "id": "OttLMbXU1pyD",
    "outputId": "123826cf-5fb7-4d96-abbb-e3a1682602f1"
   },
   "outputs": [],
   "source": [
    "%%sql \n",
    "\n",
    "sqlite:///TMDB.db"
   ]
  },
  {
   "cell_type": "markdown",
   "metadata": {},
   "source": [
    "If the above line didn't throw any errors, then you should be good to go! Good luck for the Exam! "
   ]
  },
  {
   "cell_type": "markdown",
   "metadata": {
    "id": "IvLmOAwH1pyD"
   },
   "source": [
    "## Questions on SQL\n",
    "\n",
    "Use the given cell below each question to execute your SQL queries to find the correct input from the options provided. Your solution should match one of the multiple choice questions on Athena."
   ]
  },
  {
   "cell_type": "markdown",
   "metadata": {
    "id": "e5z0q6wL1pyD"
   },
   "source": [
    "**Question 1**\n",
    "\n",
    "Who won the Oscar for “Actor in a Leading Role” in  2015 ?\n",
    "\n",
    "(Hint winner is indicated as '1.0')\n",
    "\n",
    "**Options:** \n",
    "\n",
    "  - Micheal Fassbender\n",
    "  - Natalie Portman\n",
    "  - Leonardo DiCaprio\n",
    "  - Eddie Redmayne\n"
   ]
  },
  {
   "cell_type": "code",
   "execution_count": 3,
   "metadata": {
    "id": "aXK93xeXxDu_"
   },
   "outputs": [
    {
     "name": "stdout",
     "output_type": "stream",
     "text": [
      " * sqlite:///TMDB.db\n",
      "Done.\n"
     ]
    },
    {
     "data": {
      "text/html": [
       "<table>\n",
       "    <tr>\n",
       "        <th>year</th>\n",
       "        <th>award</th>\n",
       "        <th>winner</th>\n",
       "        <th>name</th>\n",
       "        <th>film</th>\n",
       "    </tr>\n",
       "    <tr>\n",
       "        <td>2015</td>\n",
       "        <td>Actor in a Leading Role</td>\n",
       "        <td>1.0</td>\n",
       "        <td>Leonardo DiCaprio</td>\n",
       "        <td>The Revenant</td>\n",
       "    </tr>\n",
       "</table>"
      ],
      "text/plain": [
       "[('2015', 'Actor in a Leading Role', '1.0', 'Leonardo DiCaprio', 'The Revenant')]"
      ]
     },
     "execution_count": 3,
     "metadata": {},
     "output_type": "execute_result"
    }
   ],
   "source": [
    "%%sql \n",
    "SELECT *\n",
    "FROM oscars\n",
    "WHERE winner = 1.0 AND award = 'Actor in a Leading Role' AND year = '2015' \n"
   ]
  },
  {
   "cell_type": "markdown",
   "metadata": {
    "id": "gfJcknj11pyD"
   },
   "source": [
    "**Question 2**\n",
    "\n",
    "What query will produce the ten oldest movies in the database?\n",
    "\n",
    "**Options:**\n",
    "\n",
    " - SELECT TOP(10) * FROM movies WHERE release_date ORDER BY release_date ASC\n",
    "\n",
    " - SELECT  * FROM movies WHERE release_date IS NOT NULL ORDER BY release_date ASC LIMIT 10\n",
    "\n",
    " - SELECT * FROM movies WHERE release_date IS NOT NULL ORDER BY release_date DESC LIMIT 10\n",
    "\n",
    " -  SELECT * FROM movies WHERE release_date IS NULL ORDER BY release_date DESC LIMIT 10"
   ]
  },
  {
   "cell_type": "code",
   "execution_count": 4,
   "metadata": {
    "id": "1Ze6apYbxJrh"
   },
   "outputs": [
    {
     "name": "stdout",
     "output_type": "stream",
     "text": [
      " * sqlite:///TMDB.db\n",
      "Done.\n"
     ]
    },
    {
     "data": {
      "text/html": [
       "<table>\n",
       "    <tr>\n",
       "        <th>movie_id</th>\n",
       "        <th>title</th>\n",
       "        <th>release_date</th>\n",
       "        <th>budget</th>\n",
       "        <th>homepage</th>\n",
       "        <th>original_language</th>\n",
       "        <th>original_title</th>\n",
       "        <th>overview</th>\n",
       "        <th>popularity</th>\n",
       "        <th>revenue</th>\n",
       "        <th>runtime</th>\n",
       "        <th>release_status</th>\n",
       "        <th>tagline</th>\n",
       "        <th>vote_average</th>\n",
       "        <th>vote_count</th>\n",
       "    </tr>\n",
       "    <tr>\n",
       "        <td>3059</td>\n",
       "        <td>Intolerance</td>\n",
       "        <td>1916-09-04 00:00:00.000000</td>\n",
       "        <td>385907</td>\n",
       "        <td>None</td>\n",
       "        <td>en</td>\n",
       "        <td>Intolerance</td>\n",
       "        <td>The story of a poor young woman, separated by prejudice from her husband and baby, is interwoven with tales of intolerance from throughout history.</td>\n",
       "        <td>3.232447</td>\n",
       "        <td>8394751.0</td>\n",
       "        <td>197.0</td>\n",
       "        <td>Released</td>\n",
       "        <td>The Cruel Hand of Intolerance</td>\n",
       "        <td>7.4</td>\n",
       "        <td>60</td>\n",
       "    </tr>\n",
       "    <tr>\n",
       "        <td>3060</td>\n",
       "        <td>The Big Parade</td>\n",
       "        <td>1925-11-05 00:00:00.000000</td>\n",
       "        <td>245000</td>\n",
       "        <td>None</td>\n",
       "        <td>en</td>\n",
       "        <td>The Big Parade</td>\n",
       "        <td>The story of an idle rich boy who joins the US Army&#x27;s Rainbow Division and is sent to France to fight in World War I, becomes friends with two working class men, experiences the horrors of trench warfare, and finds love with a French girl.</td>\n",
       "        <td>0.785744</td>\n",
       "        <td>22000000.0</td>\n",
       "        <td>151.0</td>\n",
       "        <td>Released</td>\n",
       "        <td>None</td>\n",
       "        <td>7.0</td>\n",
       "        <td>21</td>\n",
       "    </tr>\n",
       "    <tr>\n",
       "        <td>19</td>\n",
       "        <td>Metropolis</td>\n",
       "        <td>1927-01-10 00:00:00.000000</td>\n",
       "        <td>92620000</td>\n",
       "        <td>None</td>\n",
       "        <td>de</td>\n",
       "        <td>Metropolis</td>\n",
       "        <td>In a futuristic city sharply divided between the working class and the city planners, the son of the city&#x27;s mastermind falls in love with a working class prophet who predicts the coming of a savior to mediate their differences.</td>\n",
       "        <td>32.351527</td>\n",
       "        <td>650422.0</td>\n",
       "        <td>153.0</td>\n",
       "        <td>Released</td>\n",
       "        <td>There can be no understanding between the hands and the brain unless the heart acts as mediator.</td>\n",
       "        <td>8.0</td>\n",
       "        <td>657</td>\n",
       "    </tr>\n",
       "    <tr>\n",
       "        <td>905</td>\n",
       "        <td>Pandora&#x27;s Box</td>\n",
       "        <td>1929-01-30 00:00:00.000000</td>\n",
       "        <td>0</td>\n",
       "        <td>None</td>\n",
       "        <td>de</td>\n",
       "        <td>Die Bnchse der Pandora</td>\n",
       "        <td>The rise and inevitable fall of an amoral but naive young woman whose insouciant eroticism inspires lust and violence in those around her.</td>\n",
       "        <td>1.824184</td>\n",
       "        <td>0.0</td>\n",
       "        <td>109.0</td>\n",
       "        <td>Released</td>\n",
       "        <td>None</td>\n",
       "        <td>7.6</td>\n",
       "        <td>45</td>\n",
       "    </tr>\n",
       "    <tr>\n",
       "        <td>65203</td>\n",
       "        <td>The Broadway Melody</td>\n",
       "        <td>1929-02-08 00:00:00.000000</td>\n",
       "        <td>379000</td>\n",
       "        <td>None</td>\n",
       "        <td>en</td>\n",
       "        <td>The Broadway Melody</td>\n",
       "        <td>Harriet and Queenie Mahoney, a vaudeville act, come to Broadway, where their friend Eddie Kerns needs them for his number in one of Francis Zanfield&#x27;s shows. Eddie was in love with Harriet, but when he meets Queenie, he falls in love to her, but she is courted by Jock Warriner, a member of the New Yorker high society. It takes a while till Queenie recognizes, that she is for Jock nothing more than a toy, and it also takes a while till Harriet recognizes, that Eddie is in love with Queenie</td>\n",
       "        <td>0.968865</td>\n",
       "        <td>4358000.0</td>\n",
       "        <td>100.0</td>\n",
       "        <td>Released</td>\n",
       "        <td>The pulsating drama of Broadway&#x27;s bared heart speaks and sings with a voice to stir your soul!</td>\n",
       "        <td>5.0</td>\n",
       "        <td>19</td>\n",
       "    </tr>\n",
       "    <tr>\n",
       "        <td>22301</td>\n",
       "        <td>Hell&#x27;s Angels</td>\n",
       "        <td>1930-11-15 00:00:00.000000</td>\n",
       "        <td>3950000</td>\n",
       "        <td>None</td>\n",
       "        <td>en</td>\n",
       "        <td>Hell&#x27;s Angels</td>\n",
       "        <td>Two brothers attending Oxford enlist with the Royal Flying Corps when World War I breaks out. Roy and Monte Rutledge have very different personalities. Monte is a freewheeling womanizer, even with his brother&#x27;s girlfriend Helen. He also proves to have a yellow streak when it comes to his Night Patrol duties. Roy is made of strong moral fiber and attempts to keep his brother in line. Both volunteer for an extremely risky two man bombing mission for different reasons. Monte wants to lose his cowardly reputation and Roy seeks to protect his brother. Roy loves Helen; Helen enjoys an affair with Monte; before they leave on their mission over Germany they find her in still another man&#x27;s arms.  Their assignment to knock out a strategic German munitions facility is a booming success, but with a squadron of fighters bearing down on them afterwards, escape seems unlikely.</td>\n",
       "        <td>8.484123</td>\n",
       "        <td>8000000.0</td>\n",
       "        <td>127.0</td>\n",
       "        <td>Released</td>\n",
       "        <td>Howard Hughes&#x27; Thrilling Multi-Million Dollar Air Spectacle</td>\n",
       "        <td>6.1</td>\n",
       "        <td>19</td>\n",
       "    </tr>\n",
       "    <tr>\n",
       "        <td>22649</td>\n",
       "        <td>A Farewell to Arms</td>\n",
       "        <td>1932-12-08 00:00:00.000000</td>\n",
       "        <td>4</td>\n",
       "        <td>None</td>\n",
       "        <td>en</td>\n",
       "        <td>A Farewell to Arms</td>\n",
       "        <td>British nurse Catherine Barkley (Helen Hayes) and American Lieutenant Frederic Henry (Gary Cooper) fall in love during the First World War in Italy. Eventually separated by Frederic&#x27;s transfer, tremendous challenges and difficult decisions face each, as the war rages on. Academy Awards winner for Best Cinematography and for Best Sound, Recording. Nominated for Best Picture and for Best Art Direction.</td>\n",
       "        <td>1.199451</td>\n",
       "        <td>25.0</td>\n",
       "        <td>89.0</td>\n",
       "        <td>Released</td>\n",
       "        <td>Every woman who has loved will understand</td>\n",
       "        <td>6.2</td>\n",
       "        <td>28</td>\n",
       "    </tr>\n",
       "    <tr>\n",
       "        <td>3062</td>\n",
       "        <td>42nd Street</td>\n",
       "        <td>1933-02-02 00:00:00.000000</td>\n",
       "        <td>439000</td>\n",
       "        <td>None</td>\n",
       "        <td>en</td>\n",
       "        <td>42nd Street</td>\n",
       "        <td>A producer puts on what may be his last Broadway show, and at the last moment a chorus girl has to replace the star.</td>\n",
       "        <td>1.933366</td>\n",
       "        <td>2281000.0</td>\n",
       "        <td>89.0</td>\n",
       "        <td>Released</td>\n",
       "        <td>None</td>\n",
       "        <td>6.1</td>\n",
       "        <td>37</td>\n",
       "    </tr>\n",
       "    <tr>\n",
       "        <td>43595</td>\n",
       "        <td>She Done Him Wrong</td>\n",
       "        <td>1933-02-09 00:00:00.000000</td>\n",
       "        <td>200000</td>\n",
       "        <td>None</td>\n",
       "        <td>en</td>\n",
       "        <td>She Done Him Wrong</td>\n",
       "        <td>&quot;New York singer and nightclub owner Lady Lou has more men friends than you can imagine. Unfortunately one of them is a vicious criminal who&#x27;s escaped and is on the way to see &quot;&quot;his&quot;&quot; girl, not realising she hasn&#x27;t exactly been faithful in his absence. Help is at hand in the form of young Captain Cummings a local temperance league leader though.&quot;</td>\n",
       "        <td>0.622752</td>\n",
       "        <td>2200000.0</td>\n",
       "        <td>66.0</td>\n",
       "        <td>Released</td>\n",
       "        <td>Mae West gives a &#x27;Hot Time&#x27; to the nation!</td>\n",
       "        <td>5.1</td>\n",
       "        <td>27</td>\n",
       "    </tr>\n",
       "    <tr>\n",
       "        <td>3078</td>\n",
       "        <td>It Happened One Night</td>\n",
       "        <td>1934-02-22 00:00:00.000000</td>\n",
       "        <td>325000</td>\n",
       "        <td>None</td>\n",
       "        <td>en</td>\n",
       "        <td>It Happened One Night</td>\n",
       "        <td>Ellie Andrews has just tied the knot with society aviator King Westley when she is whisked away to her father&#x27;s yacht and out of King&#x27;s clutches. Ellie jumps ship and eventually winds up on a bus headed back to her husband. Reluctantly she must accept the help of out-of- work reporter Peter Warne. Actually, Warne doesn&#x27;t give her any choice: either she sticks with him until he gets her back to her husband, or he&#x27;ll blow the whistle on Ellie to her father. Either way, Peter gets what he wants... a really juicy newspaper story!</td>\n",
       "        <td>11.871424</td>\n",
       "        <td>4500000.0</td>\n",
       "        <td>105.0</td>\n",
       "        <td>Released</td>\n",
       "        <td>TOGETHER... for the first time</td>\n",
       "        <td>7.7</td>\n",
       "        <td>275</td>\n",
       "    </tr>\n",
       "</table>"
      ],
      "text/plain": [
       "[(3059, 'Intolerance', '1916-09-04 00:00:00.000000', 385907, None, 'en', 'Intolerance', 'The story of a poor young woman, separated by prejudice from her husband and baby, is interwoven with tales of intolerance from throughout history.', 3.232447, 8394751.0, 197.0, 'Released', 'The Cruel Hand of Intolerance', 7.4, 60),\n",
       " (3060, 'The Big Parade', '1925-11-05 00:00:00.000000', 245000, None, 'en', 'The Big Parade', \"The story of an idle rich boy who joins the US Army's Rainbow Division and is sent to France to fight in World War I, becomes friends with two working class men, experiences the horrors of trench warfare, and finds love with a French girl.\", 0.785744, 22000000.0, 151.0, 'Released', None, 7.0, 21),\n",
       " (19, 'Metropolis', '1927-01-10 00:00:00.000000', 92620000, None, 'de', 'Metropolis', \"In a futuristic city sharply divided between the working class and the city planners, the son of the city's mastermind falls in love with a working class prophet who predicts the coming of a savior to mediate their differences.\", 32.351527, 650422.0, 153.0, 'Released', 'There can be no understanding between the hands and the brain unless the heart acts as mediator.', 8.0, 657),\n",
       " (905, \"Pandora's Box\", '1929-01-30 00:00:00.000000', 0, None, 'de', 'Die Bnchse der Pandora', 'The rise and inevitable fall of an amoral but naive young woman whose insouciant eroticism inspires lust and violence in those around her.', 1.824184, 0.0, 109.0, 'Released', None, 7.6, 45),\n",
       " (65203, 'The Broadway Melody', '1929-02-08 00:00:00.000000', 379000, None, 'en', 'The Broadway Melody', \"Harriet and Queenie Mahoney, a vaudeville act, come to Broadway, where their friend Eddie Kerns needs them for his number in one of Francis Zanfield' ... (195 characters truncated) ... eenie recognizes, that she is for Jock nothing more than a toy, and it also takes a while till Harriet recognizes, that Eddie is in love with Queenie\", 0.968865, 4358000.0, 100.0, 'Released', \"The pulsating drama of Broadway's bared heart speaks and sings with a voice to stir your soul!\", 5.0, 19),\n",
       " (22301, \"Hell's Angels\", '1930-11-15 00:00:00.000000', 3950000, None, 'en', \"Hell's Angels\", \"Two brothers attending Oxford enlist with the Royal Flying Corps when World War I breaks out. Roy and Monte Rutledge have very different personalitie ... (576 characters truncated) ... t a strategic German munitions facility is a booming success, but with a squadron of fighters bearing down on them afterwards, escape seems unlikely.\", 8.484123, 8000000.0, 127.0, 'Released', \"Howard Hughes' Thrilling Multi-Million Dollar Air Spectacle\", 6.1, 19),\n",
       " (22649, 'A Farewell to Arms', '1932-12-08 00:00:00.000000', 4, None, 'en', 'A Farewell to Arms', \"British nurse Catherine Barkley (Helen Hayes) and American Lieutenant Frederic Henry (Gary Cooper) fall in love during the First World War in Italy.  ... (105 characters truncated) ... the war rages on. Academy Awards winner for Best Cinematography and for Best Sound, Recording. Nominated for Best Picture and for Best Art Direction.\", 1.199451, 25.0, 89.0, 'Released', 'Every woman who has loved will understand', 6.2, 28),\n",
       " (3062, '42nd Street', '1933-02-02 00:00:00.000000', 439000, None, 'en', '42nd Street', 'A producer puts on what may be his last Broadway show, and at the last moment a chorus girl has to replace the star.', 1.933366, 2281000.0, 89.0, 'Released', None, 6.1, 37),\n",
       " (43595, 'She Done Him Wrong', '1933-02-09 00:00:00.000000', 200000, None, 'en', 'She Done Him Wrong', '\"New York singer and nightclub owner Lady Lou has more men friends than you can imagine. Unfortunately one of them is a vicious criminal who\\'s escap ... (52 characters truncated) ... ing she hasn\\'t exactly been faithful in his absence. Help is at hand in the form of young Captain Cummings a local temperance league leader though.\"', 0.622752, 2200000.0, 66.0, 'Released', \"Mae West gives a 'Hot Time' to the nation!\", 5.1, 27),\n",
       " (3078, 'It Happened One Night', '1934-02-22 00:00:00.000000', 325000, None, 'en', 'It Happened One Night', \"Ellie Andrews has just tied the knot with society aviator King Westley when she is whisked away to her father's yacht and out of King's clutches. Ell ... (233 characters truncated) ... ts her back to her husband, or he'll blow the whistle on Ellie to her father. Either way, Peter gets what he wants... a really juicy newspaper story!\", 11.871424, 4500000.0, 105.0, 'Released', 'TOGETHER... for the first time', 7.7, 275)]"
      ]
     },
     "execution_count": 4,
     "metadata": {},
     "output_type": "execute_result"
    }
   ],
   "source": [
    "%%sql \n",
    "SELECT * \n",
    "FROM movies \n",
    "WHERE release_date IS NOT NULL \n",
    "ORDER BY release_date ASC \n",
    "LIMIT 10"
   ]
  },
  {
   "cell_type": "markdown",
   "metadata": {
    "id": "wwGJU4iU1pyD"
   },
   "source": [
    "**Question 3**\n",
    "\n",
    "How many unique awards are there in the Oscars table?\n",
    "\n",
    "**Options:**\n",
    " - 141\n",
    " - 53 \n",
    " - 80\n",
    " - 114"
   ]
  },
  {
   "cell_type": "code",
   "execution_count": 5,
   "metadata": {
    "id": "i1apaPSu1pyD"
   },
   "outputs": [
    {
     "name": "stdout",
     "output_type": "stream",
     "text": [
      " * sqlite:///TMDB.db\n",
      "Done.\n"
     ]
    },
    {
     "data": {
      "text/html": [
       "<table>\n",
       "    <tr>\n",
       "        <th>Number_of_Awards</th>\n",
       "    </tr>\n",
       "    <tr>\n",
       "        <td>114</td>\n",
       "    </tr>\n",
       "</table>"
      ],
      "text/plain": [
       "[(114,)]"
      ]
     },
     "execution_count": 5,
     "metadata": {},
     "output_type": "execute_result"
    }
   ],
   "source": [
    "%%sql \n",
    "SELECT COUNT(DISTINCT award) AS Number_of_Awards\n",
    "FROM oscars"
   ]
  },
  {
   "cell_type": "markdown",
   "metadata": {
    "id": "uJp6pHmH1pyD"
   },
   "source": [
    "**Question 4**\n",
    "\n",
    "How many movies are there that contain the word “Spider” within their title?\n",
    "\n",
    "**Options:**\n",
    " - 0\n",
    " - 5\n",
    " - 1\n",
    " - 9"
   ]
  },
  {
   "cell_type": "code",
   "execution_count": 6,
   "metadata": {
    "id": "ZT8NPzQL1pyD"
   },
   "outputs": [
    {
     "name": "stdout",
     "output_type": "stream",
     "text": [
      " * sqlite:///TMDB.db\n",
      "Done.\n"
     ]
    },
    {
     "data": {
      "text/html": [
       "<table>\n",
       "    <tr>\n",
       "        <th>UPPER(title)</th>\n",
       "        <th>Movies_With_Spider</th>\n",
       "    </tr>\n",
       "    <tr>\n",
       "        <td>SPIDER-MAN</td>\n",
       "        <td>9</td>\n",
       "    </tr>\n",
       "</table>"
      ],
      "text/plain": [
       "[('SPIDER-MAN', 9)]"
      ]
     },
     "execution_count": 6,
     "metadata": {},
     "output_type": "execute_result"
    }
   ],
   "source": [
    "%%sql \n",
    "SELECT UPPER(title), COUNT(DISTINCT UPPER(title)) AS Movies_With_Spider\n",
    "FROM movies\n",
    "WHERE title LIKE '%SPIDER%'\n"
   ]
  },
  {
   "cell_type": "markdown",
   "metadata": {
    "id": "0-JmxrTm1pyD"
   },
   "source": [
    "**Question 5**\n",
    "\n",
    "How many movies are there that are both in the \"Thriller\" Genre and contain the keyword “love”?\n",
    "\n",
    "\n",
    "**Options:**\n",
    " - 55\n",
    " - 38\n",
    " - 14\n",
    " - 1"
   ]
  },
  {
   "cell_type": "code",
   "execution_count": 104,
   "metadata": {
    "id": "fQIDWG1I1pyD"
   },
   "outputs": [
    {
     "name": "stdout",
     "output_type": "stream",
     "text": [
      " * sqlite:///TMDB.db\n",
      "Done.\n"
     ]
    },
    {
     "data": {
      "text/html": [
       "<table>\n",
       "    <tr>\n",
       "        <th>THRILLER_AND_LOVE_MOVIE</th>\n",
       "        <th>genre_name</th>\n",
       "        <th>LOWER(keywords.keyword_name)</th>\n",
       "    </tr>\n",
       "    <tr>\n",
       "        <td>14</td>\n",
       "        <td>Thriller</td>\n",
       "        <td>love</td>\n",
       "    </tr>\n",
       "</table>"
      ],
      "text/plain": [
       "[(14, 'Thriller', 'love')]"
      ]
     },
     "execution_count": 104,
     "metadata": {},
     "output_type": "execute_result"
    }
   ],
   "source": [
    "%%sql \n",
    "SELECT COUNT(DISTINCT LOWER(title)) AS THRILLER_AND_LOVE_MOVIE, genres.genre_name, LOWER(keywords.keyword_name)\n",
    "FROM movies\n",
    "INNER JOIN genremap ON movies.movie_id = genremap.movie_id\n",
    "INNER JOIN genres ON genres.genre_id = genremap.genre_id\n",
    "INNER JOIN keywordmap ON movies.movie_id = keywordmap.movie_id\n",
    "INNER JOIN keywords ON keywords.keyword_id = keywordmap.keyword_id\n",
    "WHERE genres.genre_name = 'Thriller' AND keywords.keyword_name = 'love'\n"
   ]
  },
  {
   "cell_type": "markdown",
   "metadata": {
    "id": "KryrsSwa1pyD"
   },
   "source": [
    "**Question 6**\n",
    "\n",
    "How many movies are there that were released between 1 August 2006 ('2006-08-01') and 1 October 2009 ('2009-10-01') that have a popularity score of more than 40 and a budget of less than 50 000 000?\n",
    "\n",
    " \n",
    "**Options:**\n",
    "\n",
    " - 28\n",
    " - 23\n",
    " - 29\n",
    " - 35"
   ]
  },
  {
   "cell_type": "code",
   "execution_count": 7,
   "metadata": {
    "id": "IqA1sZXf1pyD"
   },
   "outputs": [
    {
     "name": "stdout",
     "output_type": "stream",
     "text": [
      " * sqlite:///TMDB.db\n",
      "Done.\n"
     ]
    },
    {
     "data": {
      "text/html": [
       "<table>\n",
       "    <tr>\n",
       "        <th>COUNT(DISTINCT title)</th>\n",
       "    </tr>\n",
       "    <tr>\n",
       "        <td>29</td>\n",
       "    </tr>\n",
       "</table>"
      ],
      "text/plain": [
       "[(29,)]"
      ]
     },
     "execution_count": 7,
     "metadata": {},
     "output_type": "execute_result"
    }
   ],
   "source": [
    "%%sql \n",
    "SELECT COUNT(DISTINCT title)\n",
    "FROM movies\n",
    "WHERE (release_date BETWEEN '2006-08-01' AND '2009-10-01') AND (popularity > 40) AND (budget < 50000000)\n"
   ]
  },
  {
   "cell_type": "markdown",
   "metadata": {
    "id": "XY2usm1w1pyD"
   },
   "source": [
    "**Question 7** \n",
    "\n",
    "How many unique characters has \"Vin Diesel\" played so far in the database?\n",
    "\n",
    "**Options:**\n",
    " - 24\n",
    " - 19\n",
    " - 18\n",
    " - 16"
   ]
  },
  {
   "cell_type": "code",
   "execution_count": 8,
   "metadata": {
    "id": "HfvLs8Ry1pyD"
   },
   "outputs": [
    {
     "name": "stdout",
     "output_type": "stream",
     "text": [
      " * sqlite:///TMDB.db\n",
      "Done.\n"
     ]
    },
    {
     "data": {
      "text/html": [
       "<table>\n",
       "    <tr>\n",
       "        <th>COUNT(DISTINCT movies.title)</th>\n",
       "        <th>COUNT(DISTINCT actors.actor_name)</th>\n",
       "    </tr>\n",
       "    <tr>\n",
       "        <td>19</td>\n",
       "        <td>1</td>\n",
       "    </tr>\n",
       "</table>"
      ],
      "text/plain": [
       "[(19, 1)]"
      ]
     },
     "execution_count": 8,
     "metadata": {},
     "output_type": "execute_result"
    }
   ],
   "source": [
    "%%sql \n",
    "SELECT COUNT(DISTINCT movies.title), COUNT(DISTINCT actors.actor_name)\n",
    "FROM movies\n",
    "INNER JOIN casts ON movies.movie_id = casts.movie_id\n",
    "INNER JOIN actors ON actors.actor_id = casts.actor_id\n",
    "WHERE actors.actor_name LIKE '%Vin Diesel%'\n"
   ]
  },
  {
   "cell_type": "markdown",
   "metadata": {
    "id": "OW1vBFbt1pyD"
   },
   "source": [
    "**Question 8**\n",
    "\n",
    "What are the Genres of the movie “The Royal Tenenbaums”?\n",
    "\n",
    "\n",
    "**Options:**\n",
    " - Action, Romance\n",
    " - Drama, Comedy\n",
    " - Crime, Thriller\n",
    " - Drama, Romance"
   ]
  },
  {
   "cell_type": "code",
   "execution_count": 9,
   "metadata": {
    "id": "epiFsHGYxqD_"
   },
   "outputs": [
    {
     "name": "stdout",
     "output_type": "stream",
     "text": [
      " * sqlite:///TMDB.db\n",
      "Done.\n"
     ]
    },
    {
     "data": {
      "text/html": [
       "<table>\n",
       "    <tr>\n",
       "        <th>title</th>\n",
       "        <th>genre_name</th>\n",
       "    </tr>\n",
       "    <tr>\n",
       "        <td>The Royal Tenenbaums</td>\n",
       "        <td>Drama</td>\n",
       "    </tr>\n",
       "    <tr>\n",
       "        <td>The Royal Tenenbaums</td>\n",
       "        <td>Comedy</td>\n",
       "    </tr>\n",
       "</table>"
      ],
      "text/plain": [
       "[('The Royal Tenenbaums', 'Drama'), ('The Royal Tenenbaums', 'Comedy')]"
      ]
     },
     "execution_count": 9,
     "metadata": {},
     "output_type": "execute_result"
    }
   ],
   "source": [
    "%%sql \n",
    "SELECT movies.title, genres.genre_name\n",
    "FROM movies\n",
    "INNER JOIN genremap ON movies.movie_id = genremap.movie_id\n",
    "INNER JOIN genres ON genres.genre_id = genremap.genre_id\n",
    "WHERE movies.title = 'The Royal Tenenbaums'\n"
   ]
  },
  {
   "cell_type": "markdown",
   "metadata": {
    "id": "q89QY7GG1pyD"
   },
   "source": [
    "**Question 9**\n",
    "\n",
    "What are the three production companies that have the highest movie popularity score on average, as recorded within the database?\n",
    "\n",
    "\n",
    "**Options:**\n",
    "\n",
    " - MCL Films S.A., Turner Pictures, George Stevens Productions\n",
    " - The Donners' Company, Bulletproof Cupid and Kinberg Genre\n",
    " - Bulletproof Cupid, The Donners' Company, MCL Films S.A\n",
    " - B.Sting Entertainment, Illumination Pictures, Aztec Musique"
   ]
  },
  {
   "cell_type": "code",
   "execution_count": 82,
   "metadata": {
    "id": "hMjI_ip81pyD"
   },
   "outputs": [
    {
     "name": "stdout",
     "output_type": "stream",
     "text": [
      " * sqlite:///TMDB.db\n",
      "Done.\n"
     ]
    },
    {
     "data": {
      "text/html": [
       "<table>\n",
       "    <tr>\n",
       "        <th>production_company_name</th>\n",
       "        <th>popularity</th>\n",
       "    </tr>\n",
       "    <tr>\n",
       "        <td>The Donners&#x27; Company</td>\n",
       "        <td>514.569956</td>\n",
       "    </tr>\n",
       "    <tr>\n",
       "        <td>Kinberg Genre</td>\n",
       "        <td>514.569956</td>\n",
       "    </tr>\n",
       "    <tr>\n",
       "        <td>Bulletproof Cupid</td>\n",
       "        <td>481.098624</td>\n",
       "    </tr>\n",
       "    <tr>\n",
       "        <td>Kinberg Genre</td>\n",
       "        <td>139.272042</td>\n",
       "    </tr>\n",
       "    <tr>\n",
       "        <td>MCL Films S.A.</td>\n",
       "        <td>13.244365</td>\n",
       "    </tr>\n",
       "    <tr>\n",
       "        <td>Turner Pictures</td>\n",
       "        <td>4.362535</td>\n",
       "    </tr>\n",
       "    <tr>\n",
       "        <td>George Stevens Productions</td>\n",
       "        <td>3.011205</td>\n",
       "    </tr>\n",
       "    <tr>\n",
       "        <td>Aztec Musique</td>\n",
       "        <td>0.007254</td>\n",
       "    </tr>\n",
       "    <tr>\n",
       "        <td>Illumination Pictures</td>\n",
       "        <td>0.006323</td>\n",
       "    </tr>\n",
       "    <tr>\n",
       "        <td>B.Sting Entertainment</td>\n",
       "        <td>0.006069</td>\n",
       "    </tr>\n",
       "</table>"
      ],
      "text/plain": [
       "[(\"The Donners' Company\", 514.569956),\n",
       " ('Kinberg Genre', 514.569956),\n",
       " ('Bulletproof Cupid', 481.098624),\n",
       " ('Kinberg Genre', 139.272042),\n",
       " ('MCL Films S.A.', 13.244365),\n",
       " ('Turner Pictures', 4.362535),\n",
       " ('George Stevens Productions', 3.011205),\n",
       " ('Aztec Musique', 0.007254),\n",
       " ('Illumination Pictures', 0.006323),\n",
       " ('B.Sting Entertainment', 0.006069)]"
      ]
     },
     "execution_count": 82,
     "metadata": {},
     "output_type": "execute_result"
    }
   ],
   "source": [
    "%%sql \n",
    "SELECT DISTINCT productioncompanies.production_company_name ,movies.popularity\n",
    "FROM movies\n",
    "INNER JOIN productioncompanymap ON movies.movie_id = productioncompanymap.movie_id\n",
    "INNER JOIN productioncompanies ON productioncompanies.production_company_id = productioncompanymap.production_company_id \n",
    "WHERE (productioncompanies.production_company_name = 'Kinberg Genre') OR (productioncompanies.production_company_name = 'MCL Films S.A.') OR\n",
    "      (productioncompanies.production_company_name = 'Illumination Pictures') OR (productioncompanies.production_company_name = 'Turner Pictures') OR \n",
    "      (productioncompanies.production_company_name = 'George Stevens Productions') OR (productioncompanies.production_company_name = 'Bulletproof Cupid') OR \n",
    "      (productioncompanies.production_company_name = 'The Donners'' Company') OR (productioncompanies.production_company_name = 'B.Sting Entertainment') OR \n",
    "      (productioncompanies.production_company_name = 'Aztec Musique')\n",
    "ORDER BY movies.popularity DESC;\n"
   ]
  },
  {
   "cell_type": "markdown",
   "metadata": {
    "id": "-4vg-IY4Qd_6"
   },
   "source": [
    "**Question 10**\n",
    "\n",
    "How many female actors (i.e. gender = 1) have a name that starts with the letter \"N\"?\n",
    "\n",
    "\n",
    "**Options:**\n",
    "\n",
    " - 0\n",
    " - 355\n",
    " - 7335\n",
    " - 1949"
   ]
  },
  {
   "cell_type": "code",
   "execution_count": 67,
   "metadata": {
    "id": "Ycekhv15Q3im"
   },
   "outputs": [
    {
     "name": "stdout",
     "output_type": "stream",
     "text": [
      " * sqlite:///TMDB.db\n",
      "Done.\n"
     ]
    },
    {
     "data": {
      "text/html": [
       "<table>\n",
       "    <tr>\n",
       "        <th>Count_Name</th>\n",
       "        <th>actor_name</th>\n",
       "        <th>gender</th>\n",
       "    </tr>\n",
       "    <tr>\n",
       "        <td>355</td>\n",
       "        <td>Nancy Cartwright</td>\n",
       "        <td>1</td>\n",
       "    </tr>\n",
       "</table>"
      ],
      "text/plain": [
       "[(355, 'Nancy Cartwright', 1)]"
      ]
     },
     "execution_count": 67,
     "metadata": {},
     "output_type": "execute_result"
    }
   ],
   "source": [
    "%%sql\n",
    "SELECT COUNT(actor_name) AS Count_Name, actor_name, gender\n",
    "FROM actors\n",
    "WHERE gender = '1' AND UPPER(actor_name) LIKE 'N%'"
   ]
  },
  {
   "cell_type": "markdown",
   "metadata": {
    "id": "5L5jXzFRRAan"
   },
   "source": [
    "**Question 11**\n",
    "\n",
    "Which genre has, on average, the lowest movie popularity score? \n",
    "\n",
    "\n",
    "**Options:**\n",
    "\n",
    " - Science Fiction\n",
    " - Animation\n",
    " - Documentary\n",
    " - Foreign"
   ]
  },
  {
   "cell_type": "code",
   "execution_count": 95,
   "metadata": {
    "id": "I-LEhrFWRPxD"
   },
   "outputs": [
    {
     "name": "stdout",
     "output_type": "stream",
     "text": [
      " * sqlite:///TMDB.db\n",
      "Done.\n"
     ]
    },
    {
     "data": {
      "text/html": [
       "<table>\n",
       "    <tr>\n",
       "        <th>genre_name</th>\n",
       "        <th>Average_Popularity_Score</th>\n",
       "    </tr>\n",
       "    <tr>\n",
       "        <td>Foreign</td>\n",
       "        <td>0.686786794117647</td>\n",
       "    </tr>\n",
       "    <tr>\n",
       "        <td>Documentary</td>\n",
       "        <td>3.945723809090908</td>\n",
       "    </tr>\n",
       "    <tr>\n",
       "        <td>Science Fiction</td>\n",
       "        <td>36.45180587102805</td>\n",
       "    </tr>\n",
       "    <tr>\n",
       "        <td>Animation</td>\n",
       "        <td>38.81343931196578</td>\n",
       "    </tr>\n",
       "</table>"
      ],
      "text/plain": [
       "[('Foreign', 0.686786794117647),\n",
       " ('Documentary', 3.945723809090908),\n",
       " ('Science Fiction', 36.45180587102805),\n",
       " ('Animation', 38.81343931196578)]"
      ]
     },
     "execution_count": 95,
     "metadata": {},
     "output_type": "execute_result"
    }
   ],
   "source": [
    "%%sql\n",
    "SELECT genres.genre_name, AVG(movies.popularity) AS Average_Popularity_Score\n",
    "FROM movies\n",
    "INNER JOIN genremap ON movies.movie_id = genremap.movie_id\n",
    "INNER JOIN genres ON genres.genre_id = genremap.genre_id\n",
    "WHERE genres.genre_name = 'Science Fiction'\n",
    "UNION\n",
    "SELECT genres.genre_name, AVG(movies.popularity) AS Average_Popularity_Score\n",
    "FROM movies\n",
    "INNER JOIN genremap ON movies.movie_id = genremap.movie_id\n",
    "INNER JOIN genres ON genres.genre_id = genremap.genre_id\n",
    "WHERE genres.genre_name = 'Animation'\n",
    "UNION \n",
    "SELECT genres.genre_name, AVG(movies.popularity) AS Average_Popularity_Score\n",
    "FROM movies\n",
    "INNER JOIN genremap ON movies.movie_id = genremap.movie_id\n",
    "INNER JOIN genres ON genres.genre_id = genremap.genre_id\n",
    "WHERE genres.genre_name = 'Documentary'\n",
    "UNION\n",
    "SELECT genres.genre_name, AVG(movies.popularity) AS Average_Popularity_Score\n",
    "FROM movies\n",
    "INNER JOIN genremap ON movies.movie_id = genremap.movie_id\n",
    "INNER JOIN genres ON genres.genre_id = genremap.genre_id\n",
    "WHERE genres.genre_name = 'Foreign'\n",
    "ORDER BY Average_Popularity_Score;\n",
    "\n"
   ]
  },
  {
   "cell_type": "markdown",
   "metadata": {
    "id": "KlYSIYEvRdeZ"
   },
   "source": [
    "**Question 12**\n",
    "\n",
    "Which award category has the highest number of actor nominations (actors can be male or female)? (Hint `Oscars.name` contains both actors names and film names)\n",
    "\n",
    "**Options:**\n",
    "\n",
    "- Special Achievement Award\n",
    "- Actor in a Supporting Role\n",
    "- Actress in a Supporting Role\n",
    "- Best Picture\n",
    "\n"
   ]
  },
  {
   "cell_type": "code",
   "execution_count": 110,
   "metadata": {
    "id": "6L-CQMbNR7mT"
   },
   "outputs": [
    {
     "name": "stdout",
     "output_type": "stream",
     "text": [
      " * sqlite:///TMDB.db\n",
      "Done.\n"
     ]
    },
    {
     "data": {
      "text/html": [
       "<table>\n",
       "    <tr>\n",
       "        <th>BP</th>\n",
       "    </tr>\n",
       "    <tr>\n",
       "        <td>3</td>\n",
       "    </tr>\n",
       "    <tr>\n",
       "        <td>298</td>\n",
       "    </tr>\n",
       "    <tr>\n",
       "        <td>400</td>\n",
       "    </tr>\n",
       "</table>"
      ],
      "text/plain": [
       "[(3,), (298,), (400,)]"
      ]
     },
     "execution_count": 110,
     "metadata": {},
     "output_type": "execute_result"
    }
   ],
   "source": [
    "%%sql\n",
    "SELECT COUNT(*) AS BP\n",
    "FROM oscars\n",
    "WHERE award = 'Best Picture'\n",
    "UNION\n",
    "SELECT COUNT(*) AS SAA\n",
    "FROM oscars\n",
    "WHERE award = 'Special Achievement Award'\n",
    "UNION\n",
    "SELECT COUNT(*) AS ASR\n",
    "FROM oscars\n",
    "WHERE award = 'Actor in a Supporting Role'\n",
    "UNION\n",
    "SELECT COUNT(*) AS AOSR\n",
    "FROM oscars\n",
    "WHERE award = 'Actress in a Supporting Role'"
   ]
  },
  {
   "cell_type": "markdown",
   "metadata": {
    "id": "1s05NRa3SAcl"
   },
   "source": [
    "**Question 13**\n",
    "\n",
    "For all of the entries in the Oscars table before 1934, the year is stored differently than in all the subsequent years. E.g the year would be saved as “1932/1933” instead of just “1933” (the second indicated year).  Which of the following options would be the appropriate code to update this column to have the format of the year be consistent throughout the entire table (second indicated year only shown)?\n",
    "\n",
    "\n",
    "**Options:**\n",
    "\n",
    "- `UPDATE Oscars SET year = RIGHT(year, -4)`\n",
    "- `UPDATE Oscars SET year = SELECT substr(year, -4)`\n",
    "- `UPDATE Oscars SET year = substr(year, -4)`\n",
    "- `UPDATE Oscars year =  substr(year, 4)`"
   ]
  },
  {
   "cell_type": "code",
   "execution_count": 31,
   "metadata": {
    "id": "inbYYBadSwG-"
   },
   "outputs": [
    {
     "name": "stdout",
     "output_type": "stream",
     "text": [
      " * sqlite:///TMDB.db\n",
      "9964 rows affected.\n"
     ]
    },
    {
     "data": {
      "text/plain": [
       "[]"
      ]
     },
     "execution_count": 31,
     "metadata": {},
     "output_type": "execute_result"
    }
   ],
   "source": [
    "%%sql\n",
    "UPDATE Oscars \n",
    "SET year = substr(year, -4)\n",
    "\n"
   ]
  },
  {
   "cell_type": "markdown",
   "metadata": {
    "id": "EzAFkKa5S_Dt"
   },
   "source": [
    "**Question 14**\n",
    "\n",
    "DStv will be having a special week dedicated to the actor Alan Rickman. Which of the following queries would create a new _view_ that shows the titles, release dates, taglines, and overviews of all movies that Alan Rickman has played in?\n",
    "\n",
    "\n",
    "\n",
    "**Options:**\n",
    "\n",
    "- SELECT title, release_date, tagline, overview \n",
    "FROM Movies LEFT JOIN Casts ON Casts.movie_id = Movies.movie_id Left JOIN Actors ON Casts.actor_id = Actors.actor_id \n",
    "WHERE Actors.actor_name = 'Alan Rickman'\n",
    "AS VIEW Alan_Rickman_Movies\n",
    "\n",
    "- CREATE VIEW Alan_Rickman_Movies AS  \n",
    "SELECT title, release_date, tagline, overview FROM Movies  \n",
    "LEFT JOIN Casts ON Casts.movie_id = Movies.movie_id Left JOIN Actors\n",
    "ON Casts.actor_id = Actors.actor_id\n",
    "WHERE Actors.actor_name = 'Alan Rickman' \n",
    "\n",
    "\n",
    "- CREATE NEW VIEW  Name  = Alan_Rickman_Movies AS SELECT title, release_date, tagline, overview FROM Movies LEFT JOIN Casts ON Casts.movie_id = Movies.movie_id Left JOIN Actors ON Casts.actor_id = Actors.actor_id WHERE Actors.actor_name = 'Alan Rickman'\n",
    "\n",
    "- VIEW Alan_Rickman_Movies AS SELECT title, release_date, tagline, overview FROM Movies LEFT JOIN Casts ON Casts.movie_id = Movies.movie_id Left JOIN Actors ON Casts.actor_id = Actors.actor_id WHERE Actors.actor_name = 'Alan Rickman'"
   ]
  },
  {
   "cell_type": "code",
   "execution_count": 25,
   "metadata": {
    "id": "DPzO4PZyUEl_"
   },
   "outputs": [
    {
     "name": "stdout",
     "output_type": "stream",
     "text": [
      " * sqlite:///TMDB.db\n",
      "Done.\n"
     ]
    },
    {
     "data": {
      "text/plain": [
       "[]"
      ]
     },
     "execution_count": 25,
     "metadata": {},
     "output_type": "execute_result"
    }
   ],
   "source": [
    "%%sql\n",
    "CREATE VIEW Alan_Rickman_Movies AS\n",
    "SELECT title, release_date, tagline, overview \n",
    "FROM Movies\n",
    "LEFT JOIN Casts ON Casts.movie_id = Movies.movie_id Left JOIN Actors ON Casts.actor_id = Actors.actor_id WHERE Actors.actor_name = 'Alan Rickman'"
   ]
  },
  {
   "cell_type": "markdown",
   "metadata": {
    "id": "SZLd8cjGUdhE"
   },
   "source": [
    "**Question 15**\n",
    "\n",
    "Which of the statements about database normalisation is true?\n",
    "\n",
    "**Statements:**\n",
    " \n",
    "i) Database normalisation improves data redundancy, saves on storage space and fulfills the requirement of records to be uniquely identified.\n",
    "\n",
    "ii) Database normalisation supports up to 3rd normal form and removes all data anomalies.\n",
    "\n",
    "iii) Database normalisation removes inconsistencies which may cause the analysis of our data to be more complicated.\n",
    "\n",
    "iv) Database normalisation causes data redundancy, increases storage space and creates duplicate records.\n",
    "\n",
    "**Options:**\n",
    "\n",
    " - (i), (ii)\n",
    " - (i), (iii)\n",
    " - (ii), (iv)\n",
    " - (iii), (iv)"
   ]
  },
  {
   "cell_type": "markdown",
   "metadata": {},
   "source": [
    "Answer: (i), (iii)"
   ]
  },
  {
   "cell_type": "code",
   "execution_count": null,
   "metadata": {},
   "outputs": [],
   "source": []
  }
 ],
 "metadata": {
  "colab": {
   "name": "DS4A_Predict_Supplementary_Examination_Student_Version.ipynb",
   "provenance": [],
   "toc_visible": true
  },
  "kernelspec": {
   "display_name": "Python 3",
   "language": "python",
   "name": "python3"
  },
  "language_info": {
   "codemirror_mode": {
    "name": "ipython",
    "version": 3
   },
   "file_extension": ".py",
   "mimetype": "text/x-python",
   "name": "python",
   "nbconvert_exporter": "python",
   "pygments_lexer": "ipython3",
   "version": "3.8.8"
  }
 },
 "nbformat": 4,
 "nbformat_minor": 4
}
