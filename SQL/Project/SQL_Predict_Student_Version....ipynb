{
 "cells": [
  {
   "cell_type": "markdown",
   "metadata": {
    "id": "kJ9OEzDBgwvw"
   },
   "source": [
    "# SQL 4 Data Science: Predict Project\n",
    "## Bhejane Online Trading Store\n",
    "\n",
    "### Student Starter Notebook\n",
    "\n",
    "© Explore Data Science Academy\n",
    "\n",
    "### Honour Code\n",
    "\n",
    "I Sanele Zulu, confirm - by submitting this document - that the solutions in this notebook are a result of my own work and that I abide by the EDSA honour code (https://drive.google.com/file/d/1QDCjGZJ8-FmJE3bZdIQNwnJyQKPhHZBn/view?usp=sharing).\n",
    "\n",
    "Non-compliance with the honour code constitutes a material breach of contract."
   ]
  },
  {
   "cell_type": "markdown",
   "metadata": {
    "id": "p40FILKTgwvy"
   },
   "source": [
    "<a id='Context'></a>\n",
    "### 1. Context\n",
    "\n",
    "The Bhejane trading store is an online retailer specialising in Covid essential items. The store has recently been struggling with the management of its database-related inventory system. Luckily for them, you've been hired as a consultant to fix the problem. \n",
    "\n",
    "Its time to flex your Ninja SQL skills! \n",
    " \n",
    "**Your mission, should you choose to accept it:**\n",
    "\n",
    "You will receive a denormalised database consisting of two tables. Your task is to transform the database such that is in third normal form (3NF). To ensure that a consistent normalisation process is followed by each student, we have attached an Entity Relationship Diagram (ERD) which is a guideline on what tables need to be produced. Once you have normalised the database, you will be required to complete an MCQ test found under the 'Predict' tab of Athena.  \n",
    "\n",
    "Though the normalisation process, you will be guided into acknowledging client (Bhenjane Trading) use-cases for the database, and dealing with data anomalies in SQL. "
   ]
  },
  {
   "cell_type": "markdown",
   "metadata": {},
   "source": [
    "![Bhejane company logo](https://raw.githubusercontent.com/Explore-AI/Pictures/master/SQL4DS/SQL_Predict/Bhejane.png)"
   ]
  },
  {
   "cell_type": "markdown",
   "metadata": {},
   "source": [
    "<div align=\"center\" >\n",
    "    Bhejane, or the Black Rhino. Image by <a href=\"https://commons.wikimedia.org/wiki/File:Black_Rhino_(Diceros_bicornis)_browsing_..._(46584052962).jpg\">Wikimedia Commons</a>\n",
    "</div>"
   ]
  },
  {
   "cell_type": "markdown",
   "metadata": {
    "id": "4hrluJ8Fgwvz"
   },
   "source": [
    "<a id='Imports'></a>\n",
    "### 2. Imports\n",
    "Please use the below command to install sql_magic, this is the package that will assist you with SQL syntax hightlighting.\n",
    "* pip install sql_magic\n",
    "\n",
    "Remember to start each new cell with \" %%read_sql \""
   ]
  },
  {
   "cell_type": "code",
   "execution_count": 4,
   "metadata": {
    "id": "v_6LpuJDgwvz"
   },
   "outputs": [
    {
     "data": {
      "application/javascript": [
       "\n",
       "    require(['notebook/js/codecell'], function(codecell) {\n",
       "      // https://github.com/jupyter/notebook/issues/2453\n",
       "      codecell.CodeCell.options_default.highlight_modes['magic_text/x-sql'] = {'reg':[/^%read_sql/, /.*=\\s*%read_sql/,\n",
       "                                                                                      /^%%read_sql/]};\n",
       "      Jupyter.notebook.events.one('kernel_ready.Kernel', function(){\n",
       "          console.log('BBBBB');\n",
       "          Jupyter.notebook.get_cells().map(function(cell){\n",
       "              if (cell.cell_type == 'code'){ cell.auto_highlight(); } }) ;\n",
       "      });\n",
       "    });\n",
       "    "
      ]
     },
     "metadata": {},
     "output_type": "display_data"
    }
   ],
   "source": [
    "# DO NOT EDIT THIS CELL\n",
    "import sqlite3\n",
    "import csv\n",
    "from sqlalchemy import create_engine\n",
    "%load_ext sql_magic\n",
    "\n",
    "# Load SQLite database\n",
    "engine  = create_engine(\"sqlite:///bhejane.db\")\n",
    "%config SQL.conn_name ='engine'"
   ]
  },
  {
   "cell_type": "markdown",
   "metadata": {
    "id": "tI8p4seXgwv3"
   },
   "source": [
    "<a id='Data_description'></a>\n",
    "### 3. Data description\n",
    "\n",
    "The original database consist of 2 tables. \n",
    "* Product Table\n",
    "* Transaction Table\n",
    "\n",
    "The `Product` table consists of the stock of all inventory that Bhejane has on hand currently, or has had on hand historically. Items which are in this table are able to be purchased, and a record of all sales (transactions) in 2020 is notorised in the `Transactions` table. To link the tables - the `barcode` can be used. Any item in the `Transactions` table, must therefore appear in the `Products` table. "
   ]
  },
  {
   "cell_type": "code",
   "execution_count": 9,
   "metadata": {
    "collapsed": true,
    "id": "oTb59N4Dgwv4",
    "outputId": "694a9594-2141-47a1-ad6e-f85c2571c355"
   },
   "outputs": [
    {
     "ename": "FileNotFoundError",
     "evalue": "[Errno 2] No such file or directory: 'Data Description.xlsx'",
     "output_type": "error",
     "traceback": [
      "\u001b[1;31m---------------------------------------------------------------------------\u001b[0m",
      "\u001b[1;31mFileNotFoundError\u001b[0m                         Traceback (most recent call last)",
      "\u001b[1;32m<ipython-input-9-2ebc3cba1922>\u001b[0m in \u001b[0;36m<module>\u001b[1;34m\u001b[0m\n\u001b[0;32m      1\u001b[0m \u001b[1;31m# DO NOT EDIT THIS CELL\u001b[0m\u001b[1;33m\u001b[0m\u001b[1;33m\u001b[0m\u001b[1;33m\u001b[0m\u001b[0m\n\u001b[0;32m      2\u001b[0m \u001b[1;32mimport\u001b[0m \u001b[0mpandas\u001b[0m \u001b[1;32mas\u001b[0m \u001b[0mpd\u001b[0m\u001b[1;33m\u001b[0m\u001b[1;33m\u001b[0m\u001b[0m\n\u001b[1;32m----> 3\u001b[1;33m \u001b[0mdata_description\u001b[0m \u001b[1;33m=\u001b[0m \u001b[0mpd\u001b[0m\u001b[1;33m.\u001b[0m\u001b[0mread_excel\u001b[0m\u001b[1;33m(\u001b[0m\u001b[1;34m'Data Description.xlsx'\u001b[0m\u001b[1;33m)\u001b[0m\u001b[1;33m\u001b[0m\u001b[1;33m\u001b[0m\u001b[0m\n\u001b[0m\u001b[0;32m      4\u001b[0m \u001b[0mdata_description\u001b[0m\u001b[1;33m\u001b[0m\u001b[1;33m\u001b[0m\u001b[0m\n",
      "\u001b[1;32m~\\anaconda3\\lib\\site-packages\\pandas\\util\\_decorators.py\u001b[0m in \u001b[0;36mwrapper\u001b[1;34m(*args, **kwargs)\u001b[0m\n\u001b[0;32m    297\u001b[0m                 )\n\u001b[0;32m    298\u001b[0m                 \u001b[0mwarnings\u001b[0m\u001b[1;33m.\u001b[0m\u001b[0mwarn\u001b[0m\u001b[1;33m(\u001b[0m\u001b[0mmsg\u001b[0m\u001b[1;33m,\u001b[0m \u001b[0mFutureWarning\u001b[0m\u001b[1;33m,\u001b[0m \u001b[0mstacklevel\u001b[0m\u001b[1;33m=\u001b[0m\u001b[0mstacklevel\u001b[0m\u001b[1;33m)\u001b[0m\u001b[1;33m\u001b[0m\u001b[1;33m\u001b[0m\u001b[0m\n\u001b[1;32m--> 299\u001b[1;33m             \u001b[1;32mreturn\u001b[0m \u001b[0mfunc\u001b[0m\u001b[1;33m(\u001b[0m\u001b[1;33m*\u001b[0m\u001b[0margs\u001b[0m\u001b[1;33m,\u001b[0m \u001b[1;33m**\u001b[0m\u001b[0mkwargs\u001b[0m\u001b[1;33m)\u001b[0m\u001b[1;33m\u001b[0m\u001b[1;33m\u001b[0m\u001b[0m\n\u001b[0m\u001b[0;32m    300\u001b[0m \u001b[1;33m\u001b[0m\u001b[0m\n\u001b[0;32m    301\u001b[0m         \u001b[1;32mreturn\u001b[0m \u001b[0mwrapper\u001b[0m\u001b[1;33m\u001b[0m\u001b[1;33m\u001b[0m\u001b[0m\n",
      "\u001b[1;32m~\\anaconda3\\lib\\site-packages\\pandas\\io\\excel\\_base.py\u001b[0m in \u001b[0;36mread_excel\u001b[1;34m(io, sheet_name, header, names, index_col, usecols, squeeze, dtype, engine, converters, true_values, false_values, skiprows, nrows, na_values, keep_default_na, na_filter, verbose, parse_dates, date_parser, thousands, comment, skipfooter, convert_float, mangle_dupe_cols, storage_options)\u001b[0m\n\u001b[0;32m    334\u001b[0m     \u001b[1;32mif\u001b[0m \u001b[1;32mnot\u001b[0m \u001b[0misinstance\u001b[0m\u001b[1;33m(\u001b[0m\u001b[0mio\u001b[0m\u001b[1;33m,\u001b[0m \u001b[0mExcelFile\u001b[0m\u001b[1;33m)\u001b[0m\u001b[1;33m:\u001b[0m\u001b[1;33m\u001b[0m\u001b[1;33m\u001b[0m\u001b[0m\n\u001b[0;32m    335\u001b[0m         \u001b[0mshould_close\u001b[0m \u001b[1;33m=\u001b[0m \u001b[1;32mTrue\u001b[0m\u001b[1;33m\u001b[0m\u001b[1;33m\u001b[0m\u001b[0m\n\u001b[1;32m--> 336\u001b[1;33m         \u001b[0mio\u001b[0m \u001b[1;33m=\u001b[0m \u001b[0mExcelFile\u001b[0m\u001b[1;33m(\u001b[0m\u001b[0mio\u001b[0m\u001b[1;33m,\u001b[0m \u001b[0mstorage_options\u001b[0m\u001b[1;33m=\u001b[0m\u001b[0mstorage_options\u001b[0m\u001b[1;33m,\u001b[0m \u001b[0mengine\u001b[0m\u001b[1;33m=\u001b[0m\u001b[0mengine\u001b[0m\u001b[1;33m)\u001b[0m\u001b[1;33m\u001b[0m\u001b[1;33m\u001b[0m\u001b[0m\n\u001b[0m\u001b[0;32m    337\u001b[0m     \u001b[1;32melif\u001b[0m \u001b[0mengine\u001b[0m \u001b[1;32mand\u001b[0m \u001b[0mengine\u001b[0m \u001b[1;33m!=\u001b[0m \u001b[0mio\u001b[0m\u001b[1;33m.\u001b[0m\u001b[0mengine\u001b[0m\u001b[1;33m:\u001b[0m\u001b[1;33m\u001b[0m\u001b[1;33m\u001b[0m\u001b[0m\n\u001b[0;32m    338\u001b[0m         raise ValueError(\n",
      "\u001b[1;32m~\\anaconda3\\lib\\site-packages\\pandas\\io\\excel\\_base.py\u001b[0m in \u001b[0;36m__init__\u001b[1;34m(self, path_or_buffer, engine, storage_options)\u001b[0m\n\u001b[0;32m   1069\u001b[0m                 \u001b[0mext\u001b[0m \u001b[1;33m=\u001b[0m \u001b[1;34m\"xls\"\u001b[0m\u001b[1;33m\u001b[0m\u001b[1;33m\u001b[0m\u001b[0m\n\u001b[0;32m   1070\u001b[0m             \u001b[1;32melse\u001b[0m\u001b[1;33m:\u001b[0m\u001b[1;33m\u001b[0m\u001b[1;33m\u001b[0m\u001b[0m\n\u001b[1;32m-> 1071\u001b[1;33m                 ext = inspect_excel_format(\n\u001b[0m\u001b[0;32m   1072\u001b[0m                     \u001b[0mcontent\u001b[0m\u001b[1;33m=\u001b[0m\u001b[0mpath_or_buffer\u001b[0m\u001b[1;33m,\u001b[0m \u001b[0mstorage_options\u001b[0m\u001b[1;33m=\u001b[0m\u001b[0mstorage_options\u001b[0m\u001b[1;33m\u001b[0m\u001b[1;33m\u001b[0m\u001b[0m\n\u001b[0;32m   1073\u001b[0m                 )\n",
      "\u001b[1;32m~\\anaconda3\\lib\\site-packages\\pandas\\io\\excel\\_base.py\u001b[0m in \u001b[0;36minspect_excel_format\u001b[1;34m(path, content, storage_options)\u001b[0m\n\u001b[0;32m    947\u001b[0m     \u001b[1;32massert\u001b[0m \u001b[0mcontent_or_path\u001b[0m \u001b[1;32mis\u001b[0m \u001b[1;32mnot\u001b[0m \u001b[1;32mNone\u001b[0m\u001b[1;33m\u001b[0m\u001b[1;33m\u001b[0m\u001b[0m\n\u001b[0;32m    948\u001b[0m \u001b[1;33m\u001b[0m\u001b[0m\n\u001b[1;32m--> 949\u001b[1;33m     with get_handle(\n\u001b[0m\u001b[0;32m    950\u001b[0m         \u001b[0mcontent_or_path\u001b[0m\u001b[1;33m,\u001b[0m \u001b[1;34m\"rb\"\u001b[0m\u001b[1;33m,\u001b[0m \u001b[0mstorage_options\u001b[0m\u001b[1;33m=\u001b[0m\u001b[0mstorage_options\u001b[0m\u001b[1;33m,\u001b[0m \u001b[0mis_text\u001b[0m\u001b[1;33m=\u001b[0m\u001b[1;32mFalse\u001b[0m\u001b[1;33m\u001b[0m\u001b[1;33m\u001b[0m\u001b[0m\n\u001b[0;32m    951\u001b[0m     ) as handle:\n",
      "\u001b[1;32m~\\anaconda3\\lib\\site-packages\\pandas\\io\\common.py\u001b[0m in \u001b[0;36mget_handle\u001b[1;34m(path_or_buf, mode, encoding, compression, memory_map, is_text, errors, storage_options)\u001b[0m\n\u001b[0;32m    649\u001b[0m         \u001b[1;32melse\u001b[0m\u001b[1;33m:\u001b[0m\u001b[1;33m\u001b[0m\u001b[1;33m\u001b[0m\u001b[0m\n\u001b[0;32m    650\u001b[0m             \u001b[1;31m# Binary mode\u001b[0m\u001b[1;33m\u001b[0m\u001b[1;33m\u001b[0m\u001b[1;33m\u001b[0m\u001b[0m\n\u001b[1;32m--> 651\u001b[1;33m             \u001b[0mhandle\u001b[0m \u001b[1;33m=\u001b[0m \u001b[0mopen\u001b[0m\u001b[1;33m(\u001b[0m\u001b[0mhandle\u001b[0m\u001b[1;33m,\u001b[0m \u001b[0mioargs\u001b[0m\u001b[1;33m.\u001b[0m\u001b[0mmode\u001b[0m\u001b[1;33m)\u001b[0m\u001b[1;33m\u001b[0m\u001b[1;33m\u001b[0m\u001b[0m\n\u001b[0m\u001b[0;32m    652\u001b[0m         \u001b[0mhandles\u001b[0m\u001b[1;33m.\u001b[0m\u001b[0mappend\u001b[0m\u001b[1;33m(\u001b[0m\u001b[0mhandle\u001b[0m\u001b[1;33m)\u001b[0m\u001b[1;33m\u001b[0m\u001b[1;33m\u001b[0m\u001b[0m\n\u001b[0;32m    653\u001b[0m \u001b[1;33m\u001b[0m\u001b[0m\n",
      "\u001b[1;31mFileNotFoundError\u001b[0m: [Errno 2] No such file or directory: 'Data Description.xlsx'"
     ]
    }
   ],
   "source": [
    "# DO NOT EDIT THIS CELL\n",
    "import pandas as pd\n",
    "data_description = pd.read_excel('Data Description.xlsx')\n",
    "data_description"
   ]
  },
  {
   "cell_type": "markdown",
   "metadata": {
    "id": "bZd01SEagwv7"
   },
   "source": [
    "<a id='Setting_up'></a>\n",
    "### 4. Setting up the database"
   ]
  },
  {
   "cell_type": "code",
   "execution_count": 4,
   "metadata": {},
   "outputs": [],
   "source": [
    "#DO NOT EDIT THIS CELL\n",
    "conn = sqlite3.connect('bhejane.db')\n",
    "cursor = conn.cursor()"
   ]
  },
  {
   "cell_type": "markdown",
   "metadata": {
    "id": "G-WGBpmDgwv-"
   },
   "source": [
    "#### Creating both Products and Transaction Tables"
   ]
  },
  {
   "cell_type": "code",
   "execution_count": 4,
   "metadata": {
    "id": "qp-DQik7gwv-",
    "outputId": "16d1c6b9-fd74-40b1-c8a9-11807656b122"
   },
   "outputs": [
    {
     "name": "stdout",
     "output_type": "stream",
     "text": [
      "Query started at 10:38:49 PM South Africa Standard Time; Query executed in 0.00 m"
     ]
    },
    {
     "data": {
      "text/plain": [
       "<sql_magic.exceptions.EmptyResult at 0x1772c55e220>"
      ]
     },
     "execution_count": 4,
     "metadata": {},
     "output_type": "execute_result"
    }
   ],
   "source": [
    "%%read_sql\n",
    "--DO NOT EDIT THIS CELL\n",
    "DROP TABLE IF EXISTS \"Products\";\n",
    "DROP TABLE IF EXISTS \"Transactions\";\n",
    "\n",
    "CREATE TABLE \"Products\" (\n",
    "    \"Width\"   REAL,\n",
    "    \"Length\"  REAL,\n",
    "    \"Height\"  REAL,\n",
    "    \"Barcode\" VARCHAR(150),\n",
    "    \"Quantity\" REAL,\n",
    "    \"Brand\" VARCHAR(150), \n",
    "    \"NavigationPath\" VARCHAR(150),\n",
    "    \"Colour\" VARCHAR(150),\n",
    "    \"StockCountry\" VARCHAR(150),\n",
    "    \"ProductDescription\" VARCHAR(150),\n",
    "    \"PackType\" VARCHAR(150), \n",
    "    \"Volume_litre\" REAL, \n",
    "    \"Warranty\" VARCHAR(150), \n",
    "    \"Weight_kg\" REAL,\n",
    "    \"ItemDescription\" VARCHAR(150), \n",
    "    \"Price\" REAL\n",
    ");\n",
    "\n",
    "\n",
    "CREATE TABLE \"Transactions\" (\n",
    "    \"CartID\" INTEGER,\n",
    "    \"Barcode\" VARCHAR(150), \n",
    "    \"Total\" REAL,\n",
    "    \"UserName\" VARCHAR(150), \n",
    "    \"InvoiceDate\" DATETIME\n",
    ");"
   ]
  },
  {
   "cell_type": "markdown",
   "metadata": {
    "id": "m3W5ah4PgwwG"
   },
   "source": [
    "#### Load Data into Product and Transaction tables\n",
    "\n",
    "Although we have not yet covered python in the sprint at EXPLORE - you have additional resources at your disposal, one of which happens to be a data engineering expert, and she has created a brief script for you which can be used to extract the data from the csv files, and load it into a sqlite database. \n",
    "\n",
    "This will be included in your submission, so that the end-to-end processing of the data is visible, and repeatable for any additional consultants who may be brought on board at a later stage. \n"
   ]
  },
  {
   "cell_type": "code",
   "execution_count": 5,
   "metadata": {
    "id": "VW_oEkizgwwH"
   },
   "outputs": [],
   "source": [
    "# DO NOT EDIT CELL\n",
    "#Load data into Product table\n",
    "with open('bhejane_covid_essentials_Products.csv','r') as fin: # `with` statement available in 2.5+\n",
    "    # csv.DictReader uses first line in file for column headings by default\n",
    "    dr = csv.DictReader(fin) # comma is default delimiter\n",
    "    to_db = [(i['Width'],i['Length'],i['Height'], i['Barcode'], i['Quantity'], i['Brand'], i['NavigationPath'], i['Colour'], i['StockCountry'], i['ProductDescription'],i['PackType'],i['Volume_litre'],i['Warranty'],i['Weight_kg'],i[\"ItemDescription\"],i['Price']) for i in dr]\n",
    "\n",
    "cursor.executemany(\"INSERT INTO Products VALUES (?, ?, ?, ?, ?, ?, ?, ?, ?, ?, ?, ?, ?, ?, ?, ?);\", to_db)\n",
    "conn.commit()\n",
    "\n",
    "with open('bhejane_covid_essentials_Transactions.csv','r') as fin: # `with` statement available in 2.5+\n",
    "    # csv.DictReader uses first line in file for column headings by default\n",
    "    dr = csv.DictReader(fin) # comma is default delimiter\n",
    "    to_db = [(i['CartID'],i['Barcode'], i['Total'], i['UserName'], i['InvoiceDate']) for i in dr]\n",
    "\n",
    "cursor.executemany(\"INSERT INTO Transactions VALUES (?, ?, ?, ?, ?);\", to_db)\n",
    "conn.commit()"
   ]
  },
  {
   "cell_type": "markdown",
   "metadata": {
    "id": "uo9PWlZtgwwO"
   },
   "source": [
    "<a id='ERD'></a>\n",
    "### 5. Denormalized Database Tables\n",
    "\n",
    "<br>\n",
    "\n",
    "<img src=\"https://raw.githubusercontent.com/Explore-AI/Pictures/master/SQL4DS/SQL_Predict/Denormalized_Tables.png\" alt=\"Denormalized Tables\" border=\"0\">"
   ]
  },
  {
   "cell_type": "markdown",
   "metadata": {},
   "source": [
    "#### 5.1 Explore the Denormalized Tables\n",
    "Familiarize yourself with the data given in the two tables by writing your own SQL queries to explore properties of the dataset.i.e Look for data inconsistencies, anormalies, redundancies etc to guide your normalization process. \n",
    "\n",
    "This section will not be graded - think of it as your own scratch pad.\n",
    "\n"
   ]
  },
  {
   "cell_type": "code",
   "execution_count": 6,
   "metadata": {},
   "outputs": [
    {
     "name": "stdout",
     "output_type": "stream",
     "text": [
      "Query started at 10:38:56 PM South Africa Standard Time; Query executed in 0.00 m"
     ]
    },
    {
     "data": {
      "text/html": [
       "<div>\n",
       "<style scoped>\n",
       "    .dataframe tbody tr th:only-of-type {\n",
       "        vertical-align: middle;\n",
       "    }\n",
       "\n",
       "    .dataframe tbody tr th {\n",
       "        vertical-align: top;\n",
       "    }\n",
       "\n",
       "    .dataframe thead th {\n",
       "        text-align: right;\n",
       "    }\n",
       "</style>\n",
       "<table border=\"1\" class=\"dataframe\">\n",
       "  <thead>\n",
       "    <tr style=\"text-align: right;\">\n",
       "      <th></th>\n",
       "      <th>Width</th>\n",
       "      <th>Length</th>\n",
       "      <th>Height</th>\n",
       "      <th>Barcode</th>\n",
       "      <th>Quantity</th>\n",
       "      <th>Brand</th>\n",
       "      <th>NavigationPath</th>\n",
       "      <th>Colour</th>\n",
       "      <th>StockCountry</th>\n",
       "      <th>ProductDescription</th>\n",
       "      <th>PackType</th>\n",
       "      <th>Volume_litre</th>\n",
       "      <th>Warranty</th>\n",
       "      <th>Weight_kg</th>\n",
       "      <th>ItemDescription</th>\n",
       "      <th>Price</th>\n",
       "    </tr>\n",
       "  </thead>\n",
       "  <tbody>\n",
       "    <tr>\n",
       "      <th>0</th>\n",
       "      <td></td>\n",
       "      <td></td>\n",
       "      <td></td>\n",
       "      <td>300507946</td>\n",
       "      <td>493.0</td>\n",
       "      <td>Hikvision</td>\n",
       "      <td>Computers &amp; Tablets / Smart Home &amp; Connected L...</td>\n",
       "      <td></td>\n",
       "      <td></td>\n",
       "      <td>Hikvision 1080P 2MP Turbo HD IR Bullet Camera</td>\n",
       "      <td></td>\n",
       "      <td>0.0</td>\n",
       "      <td>Limited (6 months)</td>\n",
       "      <td></td>\n",
       "      <td>1 x Hikvision 1080P Bullet camera</td>\n",
       "      <td>399.0</td>\n",
       "    </tr>\n",
       "    <tr>\n",
       "      <th>1</th>\n",
       "      <td></td>\n",
       "      <td></td>\n",
       "      <td></td>\n",
       "      <td>300507946</td>\n",
       "      <td>493.0</td>\n",
       "      <td>Hikvision</td>\n",
       "      <td>Computers &amp; Tablets / Smart Home &amp; Connected L...</td>\n",
       "      <td></td>\n",
       "      <td></td>\n",
       "      <td>Hikvision 1080P 2MP Turbo HD IR Bullet Camera</td>\n",
       "      <td></td>\n",
       "      <td>0.0</td>\n",
       "      <td>Limited (6 months)</td>\n",
       "      <td></td>\n",
       "      <td>Manual</td>\n",
       "      <td>399.0</td>\n",
       "    </tr>\n",
       "  </tbody>\n",
       "</table>\n",
       "</div>"
      ],
      "text/plain": [
       "  Width Length Height    Barcode  Quantity      Brand  \\\n",
       "0                      300507946     493.0  Hikvision   \n",
       "1                      300507946     493.0  Hikvision   \n",
       "\n",
       "                                      NavigationPath Colour StockCountry  \\\n",
       "0  Computers & Tablets / Smart Home & Connected L...                       \n",
       "1  Computers & Tablets / Smart Home & Connected L...                       \n",
       "\n",
       "                              ProductDescription PackType  Volume_litre  \\\n",
       "0  Hikvision 1080P 2MP Turbo HD IR Bullet Camera                    0.0   \n",
       "1  Hikvision 1080P 2MP Turbo HD IR Bullet Camera                    0.0   \n",
       "\n",
       "             Warranty Weight_kg                    ItemDescription  Price  \n",
       "0  Limited (6 months)            1 x Hikvision 1080P Bullet camera  399.0  \n",
       "1  Limited (6 months)                                       Manual  399.0  "
      ]
     },
     "execution_count": 6,
     "metadata": {},
     "output_type": "execute_result"
    }
   ],
   "source": [
    "%%read_sql\n",
    "-- #Use this section to explore the database by writing your own queries\n",
    "SELECT * FROM Products\n",
    "LIMIT 2;"
   ]
  },
  {
   "cell_type": "markdown",
   "metadata": {},
   "source": [
    "### 6. Normalize the given Database tables to the 1st Normal Form (1NF)\n",
    "\n",
    "Given the below below target ERD create new tables such the the database conforms to the 1st Normal Form\n",
    "\n",
    "![1st Normal Form](https://raw.githubusercontent.com/Explore-AI/Pictures/master/SQL4DS/SQL_Predict/1stNF.png)\n",
    "\n",
    "\n",
    "It is suggested that you create all your tables before attempting to populate them with data, this will help reduce errors that might creep up due to logical dependencies."
   ]
  },
  {
   "cell_type": "markdown",
   "metadata": {},
   "source": [
    "#### 6.1 Create the tables required for the 1st Normal Form\n",
    "Use the above ERD sketch to create the required tables. Please label your tables as they appear in the ERD sketch"
   ]
  },
  {
   "cell_type": "code",
   "execution_count": 7,
   "metadata": {},
   "outputs": [
    {
     "name": "stdout",
     "output_type": "stream",
     "text": [
      "Query started at 10:38:59 PM South Africa Standard Time; Query executed in 0.00 m"
     ]
    },
    {
     "data": {
      "text/plain": [
       "<sql_magic.exceptions.EmptyResult at 0x1772f4ca550>"
      ]
     },
     "execution_count": 7,
     "metadata": {},
     "output_type": "execute_result"
    }
   ],
   "source": [
    "%%read_sql\n",
    "--#Create tables required for 1NF\n",
    "DROP TABLE IF EXISTS \"Products_1NF\";\n",
    "DROP TABLE IF EXISTS \"Transactions_1NF\";\n",
    "\n",
    "CREATE TABLE \"Products_1NF\"(\n",
    "    \"Barcode\" VARCHAR(150),\n",
    "    \"NavigationPath\" VARCHAR(150),\n",
    "    \"ItemDescription\" VARCHAR(150),\n",
    "    \"Colour\" VARCHAR(150),\n",
    "    \"ProductDescription\" VARCHAR(150) NOT NULL,\n",
    "    \"Brand\" VARCHAR(150),\n",
    "    \"Price\" REAL NOT NULL,\n",
    "    \"Quantity\" INTEGER NOT NULL,\n",
    "    \"PackType\" VARCHAR(150),\n",
    "    \"Warranty\" VARCHAR(150),\n",
    "    \"StockCountry\" VARCHAR(150),\n",
    "    \"Weight_kg\" REAL,\n",
    "    \"Volume_litre\" REAL,\n",
    "    \"Length\" REAL,\n",
    "    \"Width\" REAL,\n",
    "    \"Height\" REAL,\n",
    "    PRIMARY KEY(\"Barcode\",\"NavigationPath\",\"ItemDescription\")\n",
    ");\n",
    "\n",
    "CREATE TABLE \"Transactions_1NF\" (\n",
    "    \"CartID\" INTEGER NOT NULL,\n",
    "    \"Barcode\" VARCHAR(150) NOT NULL,\n",
    "    \"UserName\" VARCHAR(150) NOT NULL,\n",
    "    \"InvoiceDate\" DATETIME NOT NULL,\n",
    "    \"Total\" REAL NOT NULL,\n",
    "    FOREIGN KEY (\"Barcode\") REFERENCES \"Products_1NF\" (\"Barcode\"),\n",
    "    PRIMARY KEY(\"CartID\", \"Barcode\", \"UserName\")\n",
    ");"
   ]
  },
  {
   "cell_type": "markdown",
   "metadata": {},
   "source": [
    "#### 6.2 Populate the tables you have create in the above section.\n",
    "\n",
    "Populate the tables such that the database conforms to the 1st Normal Form"
   ]
  },
  {
   "cell_type": "code",
   "execution_count": 8,
   "metadata": {},
   "outputs": [
    {
     "name": "stdout",
     "output_type": "stream",
     "text": [
      "Query started at 10:39:07 PM South Africa Standard Time; Query executed in 0.00 m"
     ]
    },
    {
     "data": {
      "text/plain": [
       "<sql_magic.exceptions.EmptyResult at 0x1772f4e9910>"
      ]
     },
     "execution_count": 8,
     "metadata": {},
     "output_type": "execute_result"
    }
   ],
   "source": [
    "%%read_sql\n",
    "--#Populate the 1NF tables\n",
    "DELETE FROM \"Products_1NF\";\n",
    "DELETE FROM \"Transactions_1NF\";\n",
    "\n",
    "INSERT INTO \"Products_1NF\" (\"Barcode\",\"NavigationPath\",\"ItemDescription\",\"Colour\",\"ProductDescription\",\"Brand\",\n",
    "                            \"Price\",\"Quantity\",\"PackType\",\"Warranty\",\"StockCountry\",\"Weight_kg\",\n",
    "                            \"Volume_litre\",\"Length\",\"Width\",\"Height\")\n",
    "SELECT DISTINCT\n",
    "     Barcode\n",
    "    ,NavigationPath\n",
    "    ,ItemDescription\n",
    "    ,Colour\n",
    "    ,ProductDescription\n",
    "    ,Brand\n",
    "    ,Price\n",
    "    ,Quantity\n",
    "    ,PackType\n",
    "    ,Warranty\n",
    "    ,StockCountry\n",
    "    ,Weight_kg\n",
    "    ,Volume_litre\n",
    "    ,Length\n",
    "    ,Width\n",
    "    ,Height \n",
    "FROM \n",
    "    Products;\n",
    "\n",
    "INSERT INTO \"Transactions_1NF\"(\"CartID\",\"Barcode\",\"UserName\",\"InvoiceDate\",\"Total\")\n",
    "SELECT DISTINCT \n",
    "    CartID\n",
    "    ,Barcode\n",
    "    ,UserName\n",
    "    ,InvoiceDate\n",
    "    ,Total\n",
    "FROM\n",
    "    Transactions;\n",
    "    "
   ]
  },
  {
   "cell_type": "markdown",
   "metadata": {},
   "source": [
    "###  7. Convert the database into its 2nd Normal Form (2NF).\n",
    "\n",
    "Please label your tables as they appear in the ERD sketch.\n",
    "\n",
    "#### 7.1 Entity Relationship Diagram\n",
    "\n",
    "![2nd Normal Form](https://raw.githubusercontent.com/Explore-AI/Pictures/master/SQL4DS/SQL_Predict/2ndNF.png)\n",
    "\n",
    "#### 7.2 2NF Requirements\n",
    "To transition from 1NF to 2NF, we need all columns in all tables to not have a partial dependancy on the PK of the table. This means that any tables which have a composite key e.g. `PRIMARY KEY(\"Barcode\",\"NavigationPath\",\"ItemDescription\")` cannot have columns in the table which are dependant on only `Barcode`, `NavigationPath`, or `ItemDescription`. \n",
    "\n",
    "In moving to 2NF we will seperate out each of these as a primary key (for their own respective tables), and any columns dependant on one of these columns but not the others, will go into that table. The only columns remaining in the tables will be fully functionally dependant on the primary key of the table. For example, \n",
    "\n",
    "Thereby, we remove the partial dependancy, and will be in 2NF. We are instructed to create a unique identifier for the `Transactions_2NF`. \n",
    "\n",
    "**Second normal form notes**\n",
    "\n",
    "<br>$\\bullet$ Notice that `Total` is only dependant on `CartID` and not on `<CartID,barcode>`. This is a partial dependancy\n",
    "<br>$\\bullet$ Second normal form required no *partial functional dependancy* on the key. \n",
    "<br>$\\bullet$ This can be achieved in 2 ways: create a unique identifier per row (so that there is a simple primary key), or break the table up into only the columns which are fully dependant on the composite key. \n",
    "<br>$\\bullet$ We are going to opt for the easier solution, and create a unique simple primary key on the `Transactions_1NF`. We can create a unique primary key by concatenating `CartID||barcode`\n",
    "<br>$\\bullet$ NB - this approach does make it more challenging to get into 3NF! Which would be a good argument to opt for the latter approach. "
   ]
  },
  {
   "cell_type": "markdown",
   "metadata": {},
   "source": [
    "#### 7.3 Data Anomalies\n",
    "\n",
    "You may stumble into an error when you insert the data which violates this constraint. You query this with the data owner, and you are told that there are three transactions in the database which were errors. You are informed that *all transactions in the database correspond to products are in the database*.\n",
    "\n",
    "These entries were captured incorrectly, and must be removed. How will you deal with this? "
   ]
  },
  {
   "cell_type": "code",
   "execution_count": 9,
   "metadata": {},
   "outputs": [
    {
     "name": "stdout",
     "output_type": "stream",
     "text": [
      "Query started at 10:39:16 PM South Africa Standard Time; Query executed in 0.00 m"
     ]
    },
    {
     "data": {
      "text/html": [
       "<div>\n",
       "<style scoped>\n",
       "    .dataframe tbody tr th:only-of-type {\n",
       "        vertical-align: middle;\n",
       "    }\n",
       "\n",
       "    .dataframe tbody tr th {\n",
       "        vertical-align: top;\n",
       "    }\n",
       "\n",
       "    .dataframe thead th {\n",
       "        text-align: right;\n",
       "    }\n",
       "</style>\n",
       "<table border=\"1\" class=\"dataframe\">\n",
       "  <thead>\n",
       "    <tr style=\"text-align: right;\">\n",
       "      <th></th>\n",
       "      <th>count(distinct barcode)</th>\n",
       "    </tr>\n",
       "  </thead>\n",
       "  <tbody>\n",
       "    <tr>\n",
       "      <th>0</th>\n",
       "      <td>2</td>\n",
       "    </tr>\n",
       "  </tbody>\n",
       "</table>\n",
       "</div>"
      ],
      "text/plain": [
       "   count(distinct barcode)\n",
       "0                        2"
      ]
     },
     "execution_count": 9,
     "metadata": {},
     "output_type": "execute_result"
    }
   ],
   "source": [
    "%%read_sql\n",
    "select count(distinct barcode) from Transactions_1NF where barcode not in (select barcode from products_1NF)"
   ]
  },
  {
   "cell_type": "markdown",
   "metadata": {},
   "source": [
    "### <font color='turquoise'>Action: remove the affected entries with a `delete` query </font>"
   ]
  },
  {
   "cell_type": "code",
   "execution_count": 10,
   "metadata": {},
   "outputs": [
    {
     "name": "stdout",
     "output_type": "stream",
     "text": [
      "Query started at 10:39:20 PM South Africa Standard Time; Query executed in 0.00 m"
     ]
    },
    {
     "data": {
      "text/plain": [
       "<sql_magic.exceptions.EmptyResult at 0x1772f4cad30>"
      ]
     },
     "execution_count": 10,
     "metadata": {},
     "output_type": "execute_result"
    }
   ],
   "source": [
    "%%read_sql\n",
    "delete from Transactions_1NF where barcode not in (select barcode from products_1NF)"
   ]
  },
  {
   "cell_type": "code",
   "execution_count": 11,
   "metadata": {},
   "outputs": [
    {
     "name": "stdout",
     "output_type": "stream",
     "text": [
      "Query started at 10:39:27 PM South Africa Standard Time; Query executed in 0.00 m"
     ]
    },
    {
     "data": {
      "text/html": [
       "<div>\n",
       "<style scoped>\n",
       "    .dataframe tbody tr th:only-of-type {\n",
       "        vertical-align: middle;\n",
       "    }\n",
       "\n",
       "    .dataframe tbody tr th {\n",
       "        vertical-align: top;\n",
       "    }\n",
       "\n",
       "    .dataframe thead th {\n",
       "        text-align: right;\n",
       "    }\n",
       "</style>\n",
       "<table border=\"1\" class=\"dataframe\">\n",
       "  <thead>\n",
       "    <tr style=\"text-align: right;\">\n",
       "      <th></th>\n",
       "      <th>count(distinct barcode)</th>\n",
       "    </tr>\n",
       "  </thead>\n",
       "  <tbody>\n",
       "    <tr>\n",
       "      <th>0</th>\n",
       "      <td>0</td>\n",
       "    </tr>\n",
       "  </tbody>\n",
       "</table>\n",
       "</div>"
      ],
      "text/plain": [
       "   count(distinct barcode)\n",
       "0                        0"
      ]
     },
     "execution_count": 11,
     "metadata": {},
     "output_type": "execute_result"
    }
   ],
   "source": [
    "%%read_sql\n",
    "select count(distinct barcode) from Transactions_1NF where barcode not in (select barcode from products_1NF)"
   ]
  },
  {
   "cell_type": "markdown",
   "metadata": {},
   "source": [
    "#### 7.4 FK Requirements\n",
    "\n",
    "_Note: sqlite does not always enforce foreign key constraints (and it is even more inconsistent with magic commands to enforce FK constraints!), so it is critical that you understand the purpose of the foreign key constraint and therefore are able to enforce the FK constraint yourself!_\n",
    "\n",
    "To enforce data integrity, and to ensure that strange things cannot happen - we will have a FK constraint. A foreign key forces all values of the FK, to be limited to only the values which exist as entries in the PK column of the table for which the aforementioned table is a foreign key to. For example, we cannot sell a product (in our Transactions table) which we do not have in our Products table. \n",
    "\n",
    "You will need to work around this by removing the erroneous data from the tables before continuing, since this would violate the FK constraint between the Transactions_2NF and Products_2NF table otherwise. \n",
    "\n",
    "_Hint: Identify the observations in the Transactions_1NF table, and remove them from there._\n",
    "\n",
    "#### 7.5 Client Use-Case Requirements\n",
    "\n",
    "The data owner has advised that there were several instances of incorrect data capturing. Whenever data was partially captured, it was redone, but the partially-complete entries have not been removed from the database. \n",
    "\n",
    "For all tables which are going to be used, consider the table utility relative to the Products (Products_2NF) table. You are tasked with removing 'useless' entries as you take the data from 1NF to 2NF. For the sake of ease-of-use for the client, we will removing all rows in the 2NF tables `PackageContents_2NF` and `Colours_2NF` which have an empty value for the attributes that the client will use them for - these are the `ItemDescription` and `Colour` columns, respectively. \n",
    "\n",
    "_Hint: Make inserts into the other 2NF (`PackageContents_2NF` and `Colours_2NF`) tables using a `where` clause to remove instances of the value being an empty string, or a `null` value. This will need to be considered for the `ItemDescription` and for the `Colour` when data is inserted into the corresponding tables above (i.e. only insert data into the `PackageContents_2NF` which has a value for the `ItemDescription`, and only insert data into the `Colours_2NF` table which has a value for `Colour`_"
   ]
  },
  {
   "cell_type": "markdown",
   "metadata": {},
   "source": [
    "### <font color='turquoise'>Action: Investigate these anomalies for the tables mentioned </font>"
   ]
  },
  {
   "cell_type": "code",
   "execution_count": 12,
   "metadata": {},
   "outputs": [
    {
     "name": "stdout",
     "output_type": "stream",
     "text": [
      "Query started at 10:39:33 PM South Africa Standard Time; Query executed in 0.00 m"
     ]
    },
    {
     "data": {
      "text/html": [
       "<div>\n",
       "<style scoped>\n",
       "    .dataframe tbody tr th:only-of-type {\n",
       "        vertical-align: middle;\n",
       "    }\n",
       "\n",
       "    .dataframe tbody tr th {\n",
       "        vertical-align: top;\n",
       "    }\n",
       "\n",
       "    .dataframe thead th {\n",
       "        text-align: right;\n",
       "    }\n",
       "</style>\n",
       "<table border=\"1\" class=\"dataframe\">\n",
       "  <thead>\n",
       "    <tr style=\"text-align: right;\">\n",
       "      <th></th>\n",
       "      <th>ItemDescription</th>\n",
       "      <th>PackType</th>\n",
       "      <th>Warranty</th>\n",
       "    </tr>\n",
       "  </thead>\n",
       "  <tbody>\n",
       "    <tr>\n",
       "      <th>0</th>\n",
       "      <td></td>\n",
       "      <td></td>\n",
       "      <td>Limited (6 months)</td>\n",
       "    </tr>\n",
       "    <tr>\n",
       "      <th>1</th>\n",
       "      <td></td>\n",
       "      <td></td>\n",
       "      <td>Non-Returnable</td>\n",
       "    </tr>\n",
       "    <tr>\n",
       "      <th>2</th>\n",
       "      <td></td>\n",
       "      <td></td>\n",
       "      <td>Limited (12 months)</td>\n",
       "    </tr>\n",
       "    <tr>\n",
       "      <th>3</th>\n",
       "      <td></td>\n",
       "      <td></td>\n",
       "      <td>Limited (120 months)</td>\n",
       "    </tr>\n",
       "    <tr>\n",
       "      <th>4</th>\n",
       "      <td></td>\n",
       "      <td></td>\n",
       "      <td>Limited (180 months)</td>\n",
       "    </tr>\n",
       "    <tr>\n",
       "      <th>5</th>\n",
       "      <td></td>\n",
       "      <td></td>\n",
       "      <td>Limited (18 months)</td>\n",
       "    </tr>\n",
       "    <tr>\n",
       "      <th>6</th>\n",
       "      <td></td>\n",
       "      <td></td>\n",
       "      <td>Supplier (12 months)</td>\n",
       "    </tr>\n",
       "    <tr>\n",
       "      <th>7</th>\n",
       "      <td></td>\n",
       "      <td>Single</td>\n",
       "      <td>Limited (6 months)</td>\n",
       "    </tr>\n",
       "    <tr>\n",
       "      <th>8</th>\n",
       "      <td></td>\n",
       "      <td></td>\n",
       "      <td>Limited (24 months)</td>\n",
       "    </tr>\n",
       "    <tr>\n",
       "      <th>9</th>\n",
       "      <td></td>\n",
       "      <td></td>\n",
       "      <td></td>\n",
       "    </tr>\n",
       "    <tr>\n",
       "      <th>10</th>\n",
       "      <td></td>\n",
       "      <td></td>\n",
       "      <td>Limited (36 months)</td>\n",
       "    </tr>\n",
       "    <tr>\n",
       "      <th>11</th>\n",
       "      <td></td>\n",
       "      <td></td>\n",
       "      <td>Full (6 months)</td>\n",
       "    </tr>\n",
       "  </tbody>\n",
       "</table>\n",
       "</div>"
      ],
      "text/plain": [
       "   ItemDescription PackType              Warranty\n",
       "0                              Limited (6 months)\n",
       "1                                  Non-Returnable\n",
       "2                             Limited (12 months)\n",
       "3                            Limited (120 months)\n",
       "4                            Limited (180 months)\n",
       "5                             Limited (18 months)\n",
       "6                            Supplier (12 months)\n",
       "7                    Single    Limited (6 months)\n",
       "8                             Limited (24 months)\n",
       "9                                                \n",
       "10                            Limited (36 months)\n",
       "11                                Full (6 months)"
      ]
     },
     "execution_count": 12,
     "metadata": {},
     "output_type": "execute_result"
    }
   ],
   "source": [
    "%%read_sql \n",
    "\n",
    "SELECT DISTINCT \n",
    "    ItemDescription,\n",
    "    PackType,\n",
    "    Warranty \n",
    "FROM\n",
    "    Products\n",
    "WHERE ItemDescription = '';"
   ]
  },
  {
   "cell_type": "markdown",
   "metadata": {},
   "source": [
    "### Let's do it! Construct the database above in second normal form"
   ]
  },
  {
   "cell_type": "code",
   "execution_count": 70,
   "metadata": {},
   "outputs": [
    {
     "name": "stdout",
     "output_type": "stream",
     "text": [
      "Query started at 12:23:53 AM South Africa Standard Time; Query executed in 0.00 m"
     ]
    },
    {
     "data": {
      "text/plain": [
       "<sql_magic.exceptions.EmptyResult at 0x1772c56a820>"
      ]
     },
     "execution_count": 70,
     "metadata": {},
     "output_type": "execute_result"
    }
   ],
   "source": [
    "%%read_sql\n",
    "--#Create tables required for 2NF\n",
    "\n",
    "DROP TABLE IF EXISTS \"Products_2NF\";\n",
    "DROP TABLE IF EXISTS \"Transactions_2NF\";\n",
    "DROP TABLE IF EXISTS \"Navigation_2NF\";\n",
    "DROP TABLE IF EXISTS \"PackageContents_2NF\";\n",
    "DROP TABLE IF EXISTS \"Colours_2NF\";\n",
    "\n",
    "CREATE TABLE Products_2NF(\n",
    "    \"RegistryID\" INTEGER NOT NULL,\n",
    "    \"Barcode\" VARCHAR(150) NOT NULL,\n",
    "    \"ProductDescription\" VARCHAR(150) NOT NULL,\n",
    "    \"Brand\" VARCHAR(150),\n",
    "    \"Price\" REAL NOT NULL,\n",
    "    \"Quantity\" INTEGER NOT NULL,\n",
    "    \"StockCountry\" VARCHAR(150),\n",
    "    \"Weight_kg\" REAL,\n",
    "    \"Volume_litre\" REAL,\n",
    "    \"Length\" REAL,\n",
    "    \"Width\" REAL,\n",
    "    \"Height\" REAL,\n",
    "    \"PathID\" INTEGER,\n",
    "    \"ItemID\" INTEGER,\n",
    "    \"ColourID\" INTEGER,\n",
    "    PRIMARY KEY(RegistryID AUTOINCREMENT),\n",
    "    CONSTRAINT fk_nav FOREIGN KEY('PathID') REFERENCES Navigation_2NF ('PathID'),\n",
    "    CONSTRAINT fk_pack FOREIGN KEY('ItemID') REFERENCES PackageContents_2NF ('ItemID'),\n",
    "    CONSTRAINT fk_col FOREIGN KEY('ColourID') REFERENCES Colours_2NF ('ColourID') \n",
    ");\n",
    "\n",
    "CREATE TABLE \"Transactions_2NF\" (\n",
    "    \"CartID||Barcode||UserName\" VARCHAR(150) NOT NULL,\n",
    "    \"CartID\" INTEGER NOT NULL,\n",
    "    \"Barcode\" VARCHAR(150) NOT NULL,\n",
    "    \"UserName\" VARCHAR(150) NOT NULL,\n",
    "    \"InvoiceDate\" DATETIME NOT NULL,\n",
    "    \"Total\" REAL NOT NULL,\n",
    "    PRIMARY KEY(\"CartID||Barcode||UserName\")\n",
    "    CONSTRAINT fk_trans FOREIGN KEY('Barcode') REFERENCES Products_2NF ('Barcode')\n",
    ");\n",
    "\n",
    "\n",
    "CREATE TABLE \"Navigation_2NF\"(\n",
    "    \"PathID\" INTEGER NOT NULL,\n",
    "    \"NavigationPath\" VARCHAR(150),\n",
    "    PRIMARY KEY(\"PathID\" AUTOINCREMENT)\n",
    ");\n",
    "\n",
    "CREATE TABLE \"Colours_2NF\"(\n",
    "    \"ColourID\" INTEGER NOT NULL,\n",
    "    \"Colour\" VARCHAR(150),\n",
    "    PRIMARY KEY(\"ColourID\" AUTOINCREMENT)\n",
    ");\n",
    "\n",
    "CREATE TABLE \"PackageContents_2NF\"(\n",
    "    \"ItemID\" INTEGER NOT NULL,\n",
    "    \"ItemDescription\" VARCHAR(150),\n",
    "    \"PackType\" VARCHAR(150),\n",
    "    \"Warranty\" VARCHAR(150),\n",
    "    PRIMARY KEY(\"ItemID\" AUTOINCREMENT)\n",
    ");\n"
   ]
  },
  {
   "cell_type": "markdown",
   "metadata": {},
   "source": [
    "### Let's do it! _Populate_ the database above in second normal form\n",
    "\n",
    "Firstly, let's consider the entries which are `null` and `= ''`. And we will only insert the relevant entries. "
   ]
  },
  {
   "cell_type": "code",
   "execution_count": 71,
   "metadata": {},
   "outputs": [
    {
     "name": "stdout",
     "output_type": "stream",
     "text": [
      "Query started at 12:23:59 AM South Africa Standard Time; Query executed in 0.00 m"
     ]
    },
    {
     "data": {
      "text/plain": [
       "<sql_magic.exceptions.EmptyResult at 0x1772f62cbe0>"
      ]
     },
     "execution_count": 71,
     "metadata": {},
     "output_type": "execute_result"
    }
   ],
   "source": [
    "%%read_sql\n",
    "-- #Populate the tables so that they conform to 2NF\n",
    "\n",
    "DELETE FROM \"Products_2NF\";\n",
    "DELETE FROM \"Transactions_2NF\";\n",
    "DELETE FROM \"Navigation_2NF\";\n",
    "DELETE FROM \"PackageContents_2NF\";\n",
    "DELETE FROM \"Colours_2NF\";\n",
    "\n",
    "\n",
    "INSERT INTO \"Navigation_2NF\"(\"NavigationPath\")\n",
    "SELECT DISTINCT \n",
    "    NavigationPath \n",
    "FROM\n",
    "    Products_1NF;\n",
    "    \n",
    "INSERT INTO \"PackageContents_2NF\"(\"ItemDescription\",\"PackType\",\"Warranty\")\n",
    "SELECT DISTINCT \n",
    "    ItemDescription,\n",
    "    PackType,\n",
    "    Warranty \n",
    "FROM\n",
    "    Products_1NF\n",
    "WHERE ItemDescription <> ''\n",
    "        ;\n",
    "    \n",
    "INSERT INTO \"Colours_2NF\"(\"Colour\")\n",
    "SELECT DISTINCT \n",
    "    Colour\n",
    "FROM\n",
    "    Products_1NF\n",
    "WHERE Colour <> ''\n",
    "        ;"
   ]
  },
  {
   "cell_type": "markdown",
   "metadata": {},
   "source": [
    "A more complicated scenario below as we insert into `Products_2NF`. We will insert from the Products_1NF table. We can use LEFT JOIN, because the data in each of these tables that `Products_1NF` has a FK to, originally came from `Products_1NF`, so we are gauranteed to get matches back. Normally however, what you would get from the FK restriction is the requirement to use _parent-table_ `LEFT JOIN` _child-table_. "
   ]
  },
  {
   "cell_type": "code",
   "execution_count": 72,
   "metadata": {},
   "outputs": [
    {
     "name": "stdout",
     "output_type": "stream",
     "text": [
      "Query started at 12:24:01 AM South Africa Standard Time; Query executed in 0.00 m"
     ]
    },
    {
     "data": {
      "text/plain": [
       "<sql_magic.exceptions.EmptyResult at 0x1772f675820>"
      ]
     },
     "execution_count": 72,
     "metadata": {},
     "output_type": "execute_result"
    }
   ],
   "source": [
    "%%read_sql \n",
    "DELETE FROM \"Products_2NF\";\n",
    "INSERT INTO \"Products_2NF\" (\"PathID\",\"ItemID\",\"ColourID\",\"Barcode\",\"ProductDescription\",\"Brand\",\"Price\",\n",
    "                            \"Quantity\",\"StockCountry\",\"Weight_kg\",\"Volume_litre\",\n",
    "                            \"Length\",\"Width\",\"Height\")\n",
    "SELECT\n",
    "    PathID,\n",
    "    ItemID,\n",
    "    ColourID,\n",
    "    Products_1NF.Barcode,\n",
    "    ProductDescription,\n",
    "    Brand,\n",
    "    Price,\n",
    "    Quantity,\n",
    "    StockCountry,\n",
    "    Weight_kg, \n",
    "    Volume_litre, \n",
    "    Length,\n",
    "    Width,\n",
    "    Height \n",
    "FROM \n",
    "    Products_1NF\n",
    "LEFT JOIN Navigation_2NF ON Products_1NF.NavigationPath = Navigation_2NF.NavigationPath \n",
    "LEFT JOIN PackageContents_2NF ON Products_1NF.ItemDescription = PackageContents_2NF.ItemDescription\n",
    "LEFT JOIN Colours_2NF ON Products_1NF.Colour = Colours_2NF.Colour;"
   ]
  },
  {
   "cell_type": "markdown",
   "metadata": {},
   "source": [
    "Last but not least, we insert into the `Transactions_2NF`table. Recall that we created a new PK in this table, and pay attention to how we are inserting values into the table. "
   ]
  },
  {
   "cell_type": "code",
   "execution_count": 73,
   "metadata": {},
   "outputs": [
    {
     "name": "stdout",
     "output_type": "stream",
     "text": [
      "Query started at 12:24:07 AM South Africa Standard Time; Query executed in 0.00 m"
     ]
    },
    {
     "data": {
      "text/plain": [
       "<sql_magic.exceptions.EmptyResult at 0x1772f597940>"
      ]
     },
     "execution_count": 73,
     "metadata": {},
     "output_type": "execute_result"
    }
   ],
   "source": [
    "%%read_sql \n",
    "DELETE FROM \"Transactions_2NF\";\n",
    "INSERT INTO \"Transactions_2NF\"(\"CartID||Barcode||UserName\",\"CartID\",\"Barcode\",\"UserName\",\"InvoiceDate\",\"Total\")\n",
    "SELECT DISTINCT \n",
    "    CartID||Transactions_1NF.Barcode||UserName\n",
    "    ,CartID\n",
    "    ,Products_2NF.Barcode\n",
    "    ,UserName\n",
    "    ,InvoiceDate\n",
    "    ,Total\n",
    "FROM\n",
    "    Transactions_1NF\n",
    "LEFT JOIN Products_2NF ON Transactions_1NF.Barcode = Products_2NF.Barcode ;\n"
   ]
  },
  {
   "cell_type": "markdown",
   "metadata": {},
   "source": [
    "<a id='Target_ERD'></a>\n",
    "### 8. Convert the table into its 3rd Normal Form (3NF)\n",
    "\n",
    "Please label your tables as they appear in the ERD sketch. In the same fashion as done in 2NF, note which tables need to have data inserted `where column <> '' and column is not null`.\n",
    "\n",
    "<br>\n",
    "\n",
    "![3rd Normal Form](https://raw.githubusercontent.com/Explore-AI/Pictures/master/SQL4DS/SQL_Predict/3rdNF.png)"
   ]
  },
  {
   "cell_type": "code",
   "execution_count": 149,
   "metadata": {
    "id": "nSceV8iQgwwP",
    "outputId": "8f243bda-2032-4c7b-9c58-e6110cdb9505"
   },
   "outputs": [
    {
     "name": "stdout",
     "output_type": "stream",
     "text": [
      "Query started at 12:40:16 AM South Africa Standard Time; Query executed in 0.00 m"
     ]
    },
    {
     "data": {
      "text/plain": [
       "<sql_magic.exceptions.EmptyResult at 0x1772f636c10>"
      ]
     },
     "execution_count": 149,
     "metadata": {},
     "output_type": "execute_result"
    }
   ],
   "source": [
    "%%read_sql\n",
    "\n",
    "DROP TABLE IF EXISTS \"Carts_3NF\";\n",
    "DROP TABLE IF EXISTS \"Products_3NF\";\n",
    "DROP TABLE IF EXISTS \"Users_3NF\";\n",
    "\n",
    "CREATE TABLE \"Products_3NF\" (\n",
    "    \"RegistryID\" INTEGER NOT NULL,\n",
    "    \"Barcode\" VARCHAR(150) NOT NULL,\n",
    "    \"ProductDescription\" VARCHAR(150) NOT NULL,\n",
    "    \"Price\" REAL NOT NULL,\n",
    "    \"Quantity\" INTEGER NOT NULL,\n",
    "    \"Weight_kg\" REAL,\n",
    "    \"Volume_litre\" REAL,\n",
    "    \"Length\" REAL,\n",
    "    \"Width\" REAL,\n",
    "    \"Height\" REAL,\n",
    "    \"PathID\" INTEGER,\n",
    "    \"ItemID\" INTEGER,\n",
    "    \"ColourID\" INTEGER,\n",
    "    \"BrandID\" INTEGER,\n",
    "    \"LocationID\" INTEGER,\n",
    "    PRIMARY KEY(\"RegistryID\" AUTOINCREMENT),\n",
    "    CONSTRAINT fk_nav3 FOREIGN KEY('PathID') REFERENCES Navigation_3NF ('PathID'),\n",
    "    CONSTRAINT fk_pack3 FOREIGN KEY('ItemID') REFERENCES PackageContents_3NF ('ItemID'),\n",
    "    CONSTRAINT fk_col3 FOREIGN KEY('ColourID') REFERENCES Colours_3NF ('ColourID'),\n",
    "    CONSTRAINT fk_bra FOREIGN KEY('BrandID') REFERENCES Brands_3NF ('BrandID'),\n",
    "    CONSTRAINT fk_loc FOREIGN KEY('LocationID') REFERENCES Locations_3NF ('LocationID')\n",
    "\n",
    ");\n",
    "\n",
    "\n",
    "CREATE TABLE \"Carts_3NF\" (\n",
    "    \"CartID\" INTEGER NOT NULL,\n",
    "    \"InvoiceDate\" DATETIME NOT NULL,\n",
    "    \"Total\" REAL NOT NULL,\n",
    "    PRIMARY KEY (\"CartID\")\n",
    ");\n",
    "\n",
    "\n",
    "CREATE TABLE \"Users_3NF\"(\n",
    "    \"UserID\" INTEGER NOT NULL,\n",
    "    UserName VARCHAR(50) NOT NULL,\n",
    "    PRIMARY KEY(\"UserID\" AUTOINCREMENT)\n",
    ");\n"
   ]
  },
  {
   "cell_type": "markdown",
   "metadata": {},
   "source": [
    "### <font color='turquoise'>Action: proceed with the construction of the remaining tables mentioned </font>"
   ]
  },
  {
   "cell_type": "code",
   "execution_count": 150,
   "metadata": {},
   "outputs": [
    {
     "name": "stdout",
     "output_type": "stream",
     "text": [
      "Query started at 12:40:17 AM South Africa Standard Time; Query executed in 0.00 m"
     ]
    },
    {
     "data": {
      "text/plain": [
       "<sql_magic.exceptions.EmptyResult at 0x1772f5d9af0>"
      ]
     },
     "execution_count": 150,
     "metadata": {},
     "output_type": "execute_result"
    }
   ],
   "source": [
    "%%read_sql\n",
    "DROP TABLE IF EXISTS \"Transactions_3NF\";\n",
    "DROP TABLE IF EXISTS \"Navigation_3NF\";\n",
    "DROP TABLE IF EXISTS \"Colours_3NF\";\n",
    "DROP TABLE IF EXISTS \"Brands_3NF\";\n",
    "DROP TABLE IF EXISTS \"Locations_3NF\";\n",
    "DROP TABLE IF EXISTS \"PackageContents_3NF\";\n",
    "\n",
    "CREATE TABLE \"Transactions_3NF\" (\n",
    "    \"CartID||Barcode||UserName\" VARCHAR(150) NOT NULL,\n",
    "    \"CartID\" INTEGER NOT NULL,\n",
    "    \"Barcode\" VARCHAR(150) NOT NULL,\n",
    "    \"UserID\" VARCHAR(150) NOT NULL,\n",
    "    PRIMARY KEY(\"CartID||Barcode||UserName\"),\n",
    "    CONSTRAINT fk_trans FOREIGN KEY('Barcode') REFERENCES Products_2NF ('Barcode'),\n",
    "    CONSTRAINT fk_car FOREIGN KEY(\"CartID\") REFERENCES \"Carts_3NF\" (\"CartID\"),\n",
    "    CONSTRAINT FK_usid FOREIGN KEY(\"UserID\") REFERENCES \"Users_3NF\" (\"UserID\")\n",
    ");\n",
    "    \n",
    "CREATE TABLE \"Navigation_3NF\"(\n",
    "    \"PathID\" INTEGER NOT NULL,\n",
    "    \"NavigationPath\" VARCHAR(150),\n",
    "    PRIMARY KEY(\"PathID\" AUTOINCREMENT)\n",
    ");\n",
    "\n",
    "CREATE TABLE \"PackageContents_3NF\"(\n",
    "    \"ItemID\" INTEGER NOT NULL,\n",
    "    \"ItemDescription\" VARCHAR(150),\n",
    "    \"PackType\" VARCHAR(150),\n",
    "    \"Warranty\" VARCHAR(150),\n",
    "    PRIMARY KEY(\"ItemID\" AUTOINCREMENT)\n",
    ");\n",
    "\n",
    "CREATE TABLE \"Colours_3NF\"(\n",
    "    \"ColourID\" INTEGER NOT NULL,\n",
    "    \"Colour\" VARCHAR(150),\n",
    "    PRIMARY KEY(\"ColourID\" AUTOINCREMENT)\n",
    "); \n",
    "\n",
    "CREATE TABLE \"Brands_3NF\"(\n",
    "    \"BrandID\" INTEGER NOT NULL,\n",
    "    \"Brand\" VARCHAR(150),\n",
    "    PRIMARY KEY(\"BrandID\" AUTOINCREMENT)\n",
    ");\n",
    "    \n",
    "CREATE TABLE \"Locations_3NF\"(\n",
    "    \"LocationID\" INTEGER NOT NULL,\n",
    "    \"StockCountry\" VARCHAR(150),\n",
    "    PRIMARY KEY(\"LocationID\" AUTOINCREMENT)\n",
    ");\n"
   ]
  },
  {
   "cell_type": "code",
   "execution_count": 151,
   "metadata": {},
   "outputs": [
    {
     "name": "stdout",
     "output_type": "stream",
     "text": [
      "Query started at 12:40:18 AM South Africa Standard Time; Query executed in 0.00 m"
     ]
    },
    {
     "data": {
      "text/plain": [
       "<sql_magic.exceptions.EmptyResult at 0x1772f523a00>"
      ]
     },
     "execution_count": 151,
     "metadata": {},
     "output_type": "execute_result"
    }
   ],
   "source": [
    "%%read_sql\n",
    "DELETE FROM \"Users_3NF\";\n",
    "\n",
    "INSERT INTO \"Users_3NF\" (\"UserName\")\n",
    "SELECT DISTINCT UserName FROM Transactions_2NF;\n"
   ]
  },
  {
   "cell_type": "markdown",
   "metadata": {},
   "source": [
    "### <font color='turquoise'>Action: proceed with the insertion into `Carts_3NF`.   </font>\n",
    "\n",
    "Take note that there are duplicate values coming from `Transactions_2NF` - retain the `distinct` combinations of `CartID`,`InvoiceDate`,`Total` only."
   ]
  },
  {
   "cell_type": "code",
   "execution_count": 152,
   "metadata": {},
   "outputs": [
    {
     "name": "stdout",
     "output_type": "stream",
     "text": [
      "Query started at 12:40:20 AM South Africa Standard Time; Query executed in 0.00 m"
     ]
    },
    {
     "data": {
      "text/plain": [
       "<sql_magic.exceptions.EmptyResult at 0x1772f5d9c70>"
      ]
     },
     "execution_count": 152,
     "metadata": {},
     "output_type": "execute_result"
    }
   ],
   "source": [
    "%%read_sql\n",
    "DELETE FROM \"Carts_3NF\";\n",
    "INSERT INTO \"Carts_3NF\"(\"CartID\",\"InvoiceDate\",\"Total\")\n",
    "    SELECT DISTINCT CartID, InvoiceDate, Total\n",
    "    FROM Transactions_2NF;"
   ]
  },
  {
   "cell_type": "markdown",
   "metadata": {},
   "source": [
    "### <font color='turquoise'>Action: proceed with the insertion into the tables below. </font>\n",
    "\n",
    "Similarly to the table above, mind the occurances of duplicate entries. These can be avoided by using `SELECT distinct` to avoid inserting redundant rows. \n"
   ]
  },
  {
   "cell_type": "code",
   "execution_count": 153,
   "metadata": {},
   "outputs": [
    {
     "name": "stdout",
     "output_type": "stream",
     "text": [
      "Query started at 12:40:21 AM South Africa Standard Time; Query executed in 0.00 m"
     ]
    },
    {
     "data": {
      "text/plain": [
       "<sql_magic.exceptions.EmptyResult at 0x1772f523610>"
      ]
     },
     "execution_count": 153,
     "metadata": {},
     "output_type": "execute_result"
    }
   ],
   "source": [
    "%%read_sql\n",
    "DELETE FROM \"Navigation_3NF\";\n",
    "DELETE FROM \"PackageContents_3NF\";\n",
    "DELETE FROM \"Colours_3NF\";\n",
    "DELETE FROM \"Brands_3NF\";\n",
    "DELETE FROM \"Locations_3NF\";\n",
    "\n",
    "INSERT INTO \"Locations_3NF\" (\"StockCountry\")\n",
    "    SELECT DISTINCT StockCountry\n",
    "    FROM Products_2NF\n",
    "    WHERE StockCountry != '';\n",
    "\n",
    "INSERT INTO \"Brands_3NF\" (\"Brand\")\n",
    "    SELECT DISTINCT Brand\n",
    "    FROM Products_2NF\n",
    "    WHERE Brand != '';\n",
    "\n",
    "INSERT INTO \"Colours_3NF\" (\"Colour\")\n",
    "    SELECT DISTINCT Colour\n",
    "    FROM Colours_2NF;\n",
    "    \n",
    "INSERT INTO \"PackageContents_3NF\" (\"ItemDescription\",\"PackType\",\"Warranty\")\n",
    "    SELECT DISTINCT ItemDescription, PackType, Warranty\n",
    "    FROM PackageContents_2NF;\n",
    "    \n",
    "INSERT INTO \"Navigation_3NF\" (\"NavigationPath\")\n",
    "    SELECT DISTINCT NavigationPath\n",
    "    FROM Navigation_2NF;\n",
    "\n"
   ]
  },
  {
   "cell_type": "markdown",
   "metadata": {},
   "source": [
    "### <font color='turquoise'>Action: proceed with the insertion into `Products_3NF`. </font>\n",
    "Take note of the joins required for additional data contained in other tables. "
   ]
  },
  {
   "cell_type": "code",
   "execution_count": 154,
   "metadata": {
    "scrolled": true
   },
   "outputs": [
    {
     "name": "stdout",
     "output_type": "stream",
     "text": [
      "Query started at 12:40:23 AM South Africa Standard Time; Query executed in 0.00 m"
     ]
    },
    {
     "data": {
      "text/plain": [
       "<sql_magic.exceptions.EmptyResult at 0x1772f641e50>"
      ]
     },
     "execution_count": 154,
     "metadata": {},
     "output_type": "execute_result"
    }
   ],
   "source": [
    "%%read_sql\n",
    "\n",
    "\n",
    "INSERT INTO \"Products_3NF\" (\"Barcode\",\"ProductDescription\",\"Price\",\n",
    "                            \"Quantity\",\"Weight_kg\",\"Volume_litre\",\n",
    "                            \"Length\",\"Width\",\"Height\", \"PathID\",\"ItemID\",\"ColourID\",\"BrandID\",\"LocationID\")\n",
    "SELECT DISTINCT Barcode,ProductDescription,Price, Quantity,Weight_kg, Volume_litre, \n",
    "Length, Width, Height, Navigation_2NF.PathID,PackageContents_2NF.ItemID, Colours_2NF.ColourID, LocationID, BrandID \n",
    "\n",
    " FROM Products_2NF \n",
    "LEFT JOIN Navigation_2NF ON Products_2NF.PathID = Navigation_2NF.PathID \n",
    "LEFT JOIN PackageContents_2NF ON Products_2NF.ItemID = PackageContents_2NF.ItemID\n",
    "LEFT JOIN Colours_2NF ON Products_2NF.ColourID = Colours_2NF.ColourID\n",
    "LEFT JOIN Brands_3NF ON Products_2NF.Brand = Brands_3NF.Brand\n",
    "LEFT JOIN Locations_3NF ON Products_2NF.StockCountry = Locations_3NF.StockCountry;"
   ]
  },
  {
   "cell_type": "markdown",
   "metadata": {},
   "source": [
    "### <font color='turquoise'>Action: proceed with the insertion into `Transactions_3NF`.   </font>\n",
    "\n",
    "Follow previous proceedure, and checks. "
   ]
  },
  {
   "cell_type": "code",
   "execution_count": 155,
   "metadata": {},
   "outputs": [
    {
     "name": "stdout",
     "output_type": "stream",
     "text": [
      "Query started at 12:40:24 AM South Africa Standard Time; Query executed in 0.00 m"
     ]
    },
    {
     "data": {
      "text/plain": [
       "<sql_magic.exceptions.EmptyResult at 0x1772f6413a0>"
      ]
     },
     "execution_count": 155,
     "metadata": {},
     "output_type": "execute_result"
    }
   ],
   "source": [
    "%%read_sql\n",
    "\n",
    "INSERT INTO \"Transactions_3NF\"(\"CartID||Barcode||UserName\",\"CartID\",\"Barcode\",\"UserID\")\n",
    "SELECT DISTINCT \n",
    "    Carts_3NF.CartID||Transactions_2NF.Barcode||Users_3NF.UserName,\n",
    "    Carts_3NF.CartID,\n",
    "    Transactions_2NF.Barcode,\n",
    "    Users_3NF.UserID\n",
    "    \n",
    "FROM\n",
    "    Transactions_2NF\n",
    "    LEFT JOIN Products_3NF ON Transactions_2NF.Barcode = Products_3NF.Barcode \n",
    "    LEFT JOIN Carts_3NF ON Transactions_2NF.InvoiceDate = Carts_3NF.InvoiceDate \n",
    "    AND Transactions_2NF.Total = Carts_3NF.Total\n",
    "    LEFT JOIN Users_3NF ON Transactions_2NF.UserName = Users_3NF.UserName;   \n"
   ]
  },
  {
   "cell_type": "markdown",
   "metadata": {},
   "source": [
    "### <font color='turquoise'>Action: Investigate the DB.   </font>\n",
    "\n",
    "Note - the tables counts below are what you should arrive at. If you don't, reconsider how you have done the inserts above. Having the tables correctly formatted will allow to answer the questions more easily, and without errors. \n"
   ]
  },
  {
   "cell_type": "code",
   "execution_count": 156,
   "metadata": {},
   "outputs": [
    {
     "name": "stdout",
     "output_type": "stream",
     "text": [
      "Query started at 12:40:26 AM South Africa Standard Time; Query executed in 0.00 m"
     ]
    },
    {
     "data": {
      "text/html": [
       "<div>\n",
       "<style scoped>\n",
       "    .dataframe tbody tr th:only-of-type {\n",
       "        vertical-align: middle;\n",
       "    }\n",
       "\n",
       "    .dataframe tbody tr th {\n",
       "        vertical-align: top;\n",
       "    }\n",
       "\n",
       "    .dataframe thead th {\n",
       "        text-align: right;\n",
       "    }\n",
       "</style>\n",
       "<table border=\"1\" class=\"dataframe\">\n",
       "  <thead>\n",
       "    <tr style=\"text-align: right;\">\n",
       "      <th></th>\n",
       "      <th>table_name</th>\n",
       "      <th>count(*)</th>\n",
       "    </tr>\n",
       "  </thead>\n",
       "  <tbody>\n",
       "    <tr>\n",
       "      <th>0</th>\n",
       "      <td>3. Brands_3NF</td>\n",
       "      <td>232</td>\n",
       "    </tr>\n",
       "    <tr>\n",
       "      <th>1</th>\n",
       "      <td>3. Carts_3NF</td>\n",
       "      <td>190</td>\n",
       "    </tr>\n",
       "    <tr>\n",
       "      <th>2</th>\n",
       "      <td>3. Colours_3NF</td>\n",
       "      <td>17</td>\n",
       "    </tr>\n",
       "    <tr>\n",
       "      <th>3</th>\n",
       "      <td>3. Locations_3NF</td>\n",
       "      <td>2</td>\n",
       "    </tr>\n",
       "    <tr>\n",
       "      <th>4</th>\n",
       "      <td>3. Navigation_3NF</td>\n",
       "      <td>396</td>\n",
       "    </tr>\n",
       "    <tr>\n",
       "      <th>5</th>\n",
       "      <td>3. PackageContents_3NF</td>\n",
       "      <td>600</td>\n",
       "    </tr>\n",
       "    <tr>\n",
       "      <th>6</th>\n",
       "      <td>3. Products_3NF</td>\n",
       "      <td>1214</td>\n",
       "    </tr>\n",
       "    <tr>\n",
       "      <th>7</th>\n",
       "      <td>3. Transactions_3NF</td>\n",
       "      <td>275</td>\n",
       "    </tr>\n",
       "    <tr>\n",
       "      <th>8</th>\n",
       "      <td>3. Users_3NF</td>\n",
       "      <td>158</td>\n",
       "    </tr>\n",
       "  </tbody>\n",
       "</table>\n",
       "</div>"
      ],
      "text/plain": [
       "               table_name  count(*)\n",
       "0           3. Brands_3NF       232\n",
       "1            3. Carts_3NF       190\n",
       "2          3. Colours_3NF        17\n",
       "3        3. Locations_3NF         2\n",
       "4       3. Navigation_3NF       396\n",
       "5  3. PackageContents_3NF       600\n",
       "6         3. Products_3NF      1214\n",
       "7     3. Transactions_3NF       275\n",
       "8            3. Users_3NF       158"
      ]
     },
     "execution_count": 156,
     "metadata": {},
     "output_type": "execute_result"
    }
   ],
   "source": [
    "%%read_sql \n",
    "\n",
    "-- How many entries are here in each of the tables in the database now? \n",
    "select '3. Products_3NF' as table_name, count(*) from Products_3NF\n",
    "UNION\n",
    "select '3. Transactions_3NF' as table_name, count(*) from Transactions_3NF\n",
    "UNION\n",
    "select '3. Users_3NF' as table_name, count(*) from Users_3NF\n",
    "UNION\n",
    "select '3. Navigation_3NF' as table_name, count(*) from Navigation_3NF\n",
    "UNION\n",
    "select '3. PackageContents_3NF' as table_name, count(*) from PackageContents_3NF\n",
    "UNION\n",
    "select '3. Colours_3NF' as table_name, count(*) from Colours_3NF\n",
    "UNION\n",
    "select '3. Brands_3NF' as table_name, count(*) from Brands_3NF\n",
    "UNION\n",
    "select '3. Locations_3NF' as table_name, count(*) from Locations_3NF\n",
    "UNION\n",
    "select '3. Carts_3NF' as table_name, count(*) from Carts_3NF\n"
   ]
  },
  {
   "cell_type": "markdown",
   "metadata": {
    "id": "zMvJZFQsGE03"
   },
   "source": [
    "<a id='MCQ_questions'></a>\n",
    "## 9. MCQ Questions\n",
    "\n",
    "Having completed the normalisation of the database, you may use the following cells to help you answer the MCQs for the predict. "
   ]
  },
  {
   "cell_type": "markdown",
   "metadata": {
    "id": "hEVNjuirGE03"
   },
   "source": [
    "Q1) How many unique products does the company have?"
   ]
  },
  {
   "cell_type": "code",
   "execution_count": 157,
   "metadata": {},
   "outputs": [
    {
     "name": "stdout",
     "output_type": "stream",
     "text": [
      "Query started at 12:40:30 AM South Africa Standard Time; Query executed in 0.00 m"
     ]
    },
    {
     "data": {
      "text/html": [
       "<div>\n",
       "<style scoped>\n",
       "    .dataframe tbody tr th:only-of-type {\n",
       "        vertical-align: middle;\n",
       "    }\n",
       "\n",
       "    .dataframe tbody tr th {\n",
       "        vertical-align: top;\n",
       "    }\n",
       "\n",
       "    .dataframe thead th {\n",
       "        text-align: right;\n",
       "    }\n",
       "</style>\n",
       "<table border=\"1\" class=\"dataframe\">\n",
       "  <thead>\n",
       "    <tr style=\"text-align: right;\">\n",
       "      <th></th>\n",
       "      <th>COUNT(*)</th>\n",
       "    </tr>\n",
       "  </thead>\n",
       "  <tbody>\n",
       "    <tr>\n",
       "      <th>0</th>\n",
       "      <td>608</td>\n",
       "    </tr>\n",
       "  </tbody>\n",
       "</table>\n",
       "</div>"
      ],
      "text/plain": [
       "   COUNT(*)\n",
       "0       608"
      ]
     },
     "execution_count": 157,
     "metadata": {},
     "output_type": "execute_result"
    }
   ],
   "source": [
    "%%read_sql\n",
    "\n",
    "SELECT COUNT(*)\n",
    "FROM (SELECT DISTINCT(Barcode)\n",
    "     FROM Products_3NF);"
   ]
  },
  {
   "cell_type": "markdown",
   "metadata": {
    "id": "WsQZQ8tuGE03"
   },
   "source": [
    "Q2) How many users bought from Bhejane in April 2020?"
   ]
  },
  {
   "cell_type": "code",
   "execution_count": 158,
   "metadata": {
    "id": "hFz7XUw_GE04"
   },
   "outputs": [
    {
     "name": "stdout",
     "output_type": "stream",
     "text": [
      "Query started at 12:40:32 AM South Africa Standard Time; Query executed in 0.00 m"
     ]
    },
    {
     "data": {
      "text/html": [
       "<div>\n",
       "<style scoped>\n",
       "    .dataframe tbody tr th:only-of-type {\n",
       "        vertical-align: middle;\n",
       "    }\n",
       "\n",
       "    .dataframe tbody tr th {\n",
       "        vertical-align: top;\n",
       "    }\n",
       "\n",
       "    .dataframe thead th {\n",
       "        text-align: right;\n",
       "    }\n",
       "</style>\n",
       "<table border=\"1\" class=\"dataframe\">\n",
       "  <thead>\n",
       "    <tr style=\"text-align: right;\">\n",
       "      <th></th>\n",
       "      <th>COUNT(*)</th>\n",
       "    </tr>\n",
       "  </thead>\n",
       "  <tbody>\n",
       "    <tr>\n",
       "      <th>0</th>\n",
       "      <td>31</td>\n",
       "    </tr>\n",
       "  </tbody>\n",
       "</table>\n",
       "</div>"
      ],
      "text/plain": [
       "   COUNT(*)\n",
       "0        31"
      ]
     },
     "execution_count": 158,
     "metadata": {},
     "output_type": "execute_result"
    }
   ],
   "source": [
    "%%read_sql\n",
    "SELECT COUNT(*)\n",
    "FROM (SELECT DISTINCT UserName\n",
    "     FROM Users_3NF\n",
    "     INNER JOIN Transactions_3NF\n",
    "     ON Users_3NF.UserID = Transactions_3NF.UserID\n",
    "     INNER JOIN Carts_3NF\n",
    "      ON Transactions_3NF.CartID = Carts_3NF.CartID\n",
    "     WHERE SUBSTR(InvoiceDate,1,4) == '2020' \n",
    "     AND SUBSTR(InvoiceDate,6,2) == '04');\n"
   ]
  },
  {
   "cell_type": "markdown",
   "metadata": {
    "id": "iBRifthWGE04"
   },
   "source": [
    "Q3) How many users bought 3 or more items that cost more than R1000?"
   ]
  },
  {
   "cell_type": "code",
   "execution_count": 159,
   "metadata": {
    "id": "NURR7Ue9GE04"
   },
   "outputs": [
    {
     "name": "stdout",
     "output_type": "stream",
     "text": [
      "Query started at 12:40:34 AM South Africa Standard Time; Query executed in 0.00 m"
     ]
    },
    {
     "data": {
      "text/html": [
       "<div>\n",
       "<style scoped>\n",
       "    .dataframe tbody tr th:only-of-type {\n",
       "        vertical-align: middle;\n",
       "    }\n",
       "\n",
       "    .dataframe tbody tr th {\n",
       "        vertical-align: top;\n",
       "    }\n",
       "\n",
       "    .dataframe thead th {\n",
       "        text-align: right;\n",
       "    }\n",
       "</style>\n",
       "<table border=\"1\" class=\"dataframe\">\n",
       "  <thead>\n",
       "    <tr style=\"text-align: right;\">\n",
       "      <th></th>\n",
       "      <th>Number of Items</th>\n",
       "    </tr>\n",
       "  </thead>\n",
       "  <tbody>\n",
       "    <tr>\n",
       "      <th>0</th>\n",
       "      <td>11</td>\n",
       "    </tr>\n",
       "  </tbody>\n",
       "</table>\n",
       "</div>"
      ],
      "text/plain": [
       "   Number of Items\n",
       "0               11"
      ]
     },
     "execution_count": 159,
     "metadata": {},
     "output_type": "execute_result"
    }
   ],
   "source": [
    "%%read_sql\n",
    "SELECT COUNT(*) AS 'Number of Items'\n",
    "\n",
    "FROM (SELECT  UserID,Barcode, Total, InvoiceDate\n",
    "      FROM Transactions_3NF\n",
    "      INNER JOIN Carts_3NF\n",
    "      ON Transactions_3NF.CartID = Carts_3NF.CartID\n",
    "      GROUP BY UserID,InvoiceDate\n",
    "      HAVING COUNT(Barcode) >= 3 \n",
    "      AND Total > 1000);"
   ]
  },
  {
   "cell_type": "markdown",
   "metadata": {
    "id": "9_-usJoSGE04"
   },
   "source": [
    "Q4) Which user made the largest purchase on a single transaction?"
   ]
  },
  {
   "cell_type": "code",
   "execution_count": 160,
   "metadata": {
    "id": "3i7wS1jJGE04"
   },
   "outputs": [
    {
     "name": "stdout",
     "output_type": "stream",
     "text": [
      "Query started at 12:40:36 AM South Africa Standard Time; Query executed in 0.00 m"
     ]
    },
    {
     "data": {
      "text/html": [
       "<div>\n",
       "<style scoped>\n",
       "    .dataframe tbody tr th:only-of-type {\n",
       "        vertical-align: middle;\n",
       "    }\n",
       "\n",
       "    .dataframe tbody tr th {\n",
       "        vertical-align: top;\n",
       "    }\n",
       "\n",
       "    .dataframe thead th {\n",
       "        text-align: right;\n",
       "    }\n",
       "</style>\n",
       "<table border=\"1\" class=\"dataframe\">\n",
       "  <thead>\n",
       "    <tr style=\"text-align: right;\">\n",
       "      <th></th>\n",
       "      <th>UserName</th>\n",
       "      <th>Total</th>\n",
       "    </tr>\n",
       "  </thead>\n",
       "  <tbody>\n",
       "    <tr>\n",
       "      <th>0</th>\n",
       "      <td>Mandla</td>\n",
       "      <td>10999.0</td>\n",
       "    </tr>\n",
       "    <tr>\n",
       "      <th>1</th>\n",
       "      <td>Brigette</td>\n",
       "      <td>10999.0</td>\n",
       "    </tr>\n",
       "  </tbody>\n",
       "</table>\n",
       "</div>"
      ],
      "text/plain": [
       "   UserName    Total\n",
       "0    Mandla  10999.0\n",
       "1  Brigette  10999.0"
      ]
     },
     "execution_count": 160,
     "metadata": {},
     "output_type": "execute_result"
    }
   ],
   "source": [
    "%%read_sql\n",
    "SELECT UserName, Total\n",
    "\n",
    "FROM (SELECT  Users_3NF.UserName, Users_3NF.UserID, Transactions_3NF.Barcode, Carts_3NF.Total, Carts_3NF.InvoiceDate\n",
    "      FROM Transactions_3NF\n",
    "      INNER JOIN Users_3NF\n",
    "      ON Transactions_3NF.UserID = Users_3NF.UserID\n",
    "      INNER JOIN Carts_3NF\n",
    "      ON Transactions_3NF.CartID = Carts_3NF.CartID\n",
    "      GROUP BY Carts_3NF.InvoiceDate,Users_3NF.UserID\n",
    "      ORDER BY Carts_3NF.Total DESC)\n",
    "LIMIT 2;\n"
   ]
  },
  {
   "cell_type": "markdown",
   "metadata": {
    "id": "Ik1EeR1dGE04"
   },
   "source": [
    "Q5) How many components does the product: \"5m Colour Changing RGB LED Strip Light\" (MPTAL57588104) come with?"
   ]
  },
  {
   "cell_type": "code",
   "execution_count": 161,
   "metadata": {
    "id": "BhTlfGsyGE04"
   },
   "outputs": [
    {
     "name": "stdout",
     "output_type": "stream",
     "text": [
      "Query started at 12:40:37 AM South Africa Standard Time; Query executed in 0.00 m"
     ]
    },
    {
     "data": {
      "text/html": [
       "<div>\n",
       "<style scoped>\n",
       "    .dataframe tbody tr th:only-of-type {\n",
       "        vertical-align: middle;\n",
       "    }\n",
       "\n",
       "    .dataframe tbody tr th {\n",
       "        vertical-align: top;\n",
       "    }\n",
       "\n",
       "    .dataframe thead th {\n",
       "        text-align: right;\n",
       "    }\n",
       "</style>\n",
       "<table border=\"1\" class=\"dataframe\">\n",
       "  <thead>\n",
       "    <tr style=\"text-align: right;\">\n",
       "      <th></th>\n",
       "      <th>COUNT(*)</th>\n",
       "    </tr>\n",
       "  </thead>\n",
       "  <tbody>\n",
       "    <tr>\n",
       "      <th>0</th>\n",
       "      <td>4</td>\n",
       "    </tr>\n",
       "  </tbody>\n",
       "</table>\n",
       "</div>"
      ],
      "text/plain": [
       "   COUNT(*)\n",
       "0         4"
      ]
     },
     "execution_count": 161,
     "metadata": {},
     "output_type": "execute_result"
    }
   ],
   "source": [
    "%%read_sql\n",
    "SELECT COUNT(*)\n",
    "FROM (SELECT DISTINCT(ItemDescription)\n",
    "      FROM PackageContents_3NF\n",
    "     INNER JOIN Products_3NF\n",
    "     ON PackageContents_3NF.ItemID = Products_3NF.ItemID\n",
    "     WHERE Barcode = 'MPTAL57588104') ;"
   ]
  },
  {
   "cell_type": "markdown",
   "metadata": {
    "id": "CLNf-BoGGE04"
   },
   "source": [
    "Q6) How many brands are available at Bhejane?"
   ]
  },
  {
   "cell_type": "code",
   "execution_count": 162,
   "metadata": {
    "id": "afrVCqnYGE04"
   },
   "outputs": [
    {
     "name": "stdout",
     "output_type": "stream",
     "text": [
      "Query started at 12:40:39 AM South Africa Standard Time; Query executed in 0.00 m"
     ]
    },
    {
     "data": {
      "text/html": [
       "<div>\n",
       "<style scoped>\n",
       "    .dataframe tbody tr th:only-of-type {\n",
       "        vertical-align: middle;\n",
       "    }\n",
       "\n",
       "    .dataframe tbody tr th {\n",
       "        vertical-align: top;\n",
       "    }\n",
       "\n",
       "    .dataframe thead th {\n",
       "        text-align: right;\n",
       "    }\n",
       "</style>\n",
       "<table border=\"1\" class=\"dataframe\">\n",
       "  <thead>\n",
       "    <tr style=\"text-align: right;\">\n",
       "      <th></th>\n",
       "      <th>COUNT(*)</th>\n",
       "    </tr>\n",
       "  </thead>\n",
       "  <tbody>\n",
       "    <tr>\n",
       "      <th>0</th>\n",
       "      <td>232</td>\n",
       "    </tr>\n",
       "  </tbody>\n",
       "</table>\n",
       "</div>"
      ],
      "text/plain": [
       "   COUNT(*)\n",
       "0       232"
      ]
     },
     "execution_count": 162,
     "metadata": {},
     "output_type": "execute_result"
    }
   ],
   "source": [
    "%%read_sql\n",
    "SELECT COUNT(*)\n",
    "FROM Brands_3NF;"
   ]
  },
  {
   "cell_type": "markdown",
   "metadata": {},
   "source": [
    "7) What is the price of the \"Verimark - Floorwiz 2in1 Mop\"?"
   ]
  },
  {
   "cell_type": "code",
   "execution_count": 163,
   "metadata": {
    "id": "2bQwTSaAGE05",
    "scrolled": true
   },
   "outputs": [
    {
     "name": "stdout",
     "output_type": "stream",
     "text": [
      "Query started at 12:40:41 AM South Africa Standard Time; Query executed in 0.00 m"
     ]
    },
    {
     "data": {
      "text/html": [
       "<div>\n",
       "<style scoped>\n",
       "    .dataframe tbody tr th:only-of-type {\n",
       "        vertical-align: middle;\n",
       "    }\n",
       "\n",
       "    .dataframe tbody tr th {\n",
       "        vertical-align: top;\n",
       "    }\n",
       "\n",
       "    .dataframe thead th {\n",
       "        text-align: right;\n",
       "    }\n",
       "</style>\n",
       "<table border=\"1\" class=\"dataframe\">\n",
       "  <thead>\n",
       "    <tr style=\"text-align: right;\">\n",
       "      <th></th>\n",
       "      <th>Price</th>\n",
       "      <th>ProductDescription</th>\n",
       "    </tr>\n",
       "  </thead>\n",
       "  <tbody>\n",
       "    <tr>\n",
       "      <th>0</th>\n",
       "      <td>179.0</td>\n",
       "      <td>Verimark - Floorwiz 2in1 Mop</td>\n",
       "    </tr>\n",
       "  </tbody>\n",
       "</table>\n",
       "</div>"
      ],
      "text/plain": [
       "   Price            ProductDescription\n",
       "0  179.0  Verimark - Floorwiz 2in1 Mop"
      ]
     },
     "execution_count": 163,
     "metadata": {},
     "output_type": "execute_result"
    }
   ],
   "source": [
    "%%read_sql\n",
    "\n",
    "SELECT Price, ProductDescription\n",
    "FROM Products_3NF\n",
    "\n",
    "WHERE ProductDescription LIKE \"%Verimark - Floorwiz 2in1 Mop%\"\n",
    "LIMIT 1;\n"
   ]
  },
  {
   "cell_type": "markdown",
   "metadata": {
    "id": "BGaE5N7nGE04"
   },
   "source": [
    "Q8) Calculate the package volume of the \"Russell Hobbs - Slow Cooker\" using the given dimensions"
   ]
  },
  {
   "cell_type": "code",
   "execution_count": 164,
   "metadata": {
    "id": "4pOPg-jAGE04"
   },
   "outputs": [
    {
     "name": "stdout",
     "output_type": "stream",
     "text": [
      "Query started at 12:40:43 AM South Africa Standard Time; Query executed in 0.00 m"
     ]
    },
    {
     "data": {
      "text/html": [
       "<div>\n",
       "<style scoped>\n",
       "    .dataframe tbody tr th:only-of-type {\n",
       "        vertical-align: middle;\n",
       "    }\n",
       "\n",
       "    .dataframe tbody tr th {\n",
       "        vertical-align: top;\n",
       "    }\n",
       "\n",
       "    .dataframe thead th {\n",
       "        text-align: right;\n",
       "    }\n",
       "</style>\n",
       "<table border=\"1\" class=\"dataframe\">\n",
       "  <thead>\n",
       "    <tr style=\"text-align: right;\">\n",
       "      <th></th>\n",
       "      <th>Volume_Calc</th>\n",
       "    </tr>\n",
       "  </thead>\n",
       "  <tbody>\n",
       "    <tr>\n",
       "      <th>0</th>\n",
       "      <td>26928.0</td>\n",
       "    </tr>\n",
       "  </tbody>\n",
       "</table>\n",
       "</div>"
      ],
      "text/plain": [
       "   Volume_Calc\n",
       "0      26928.0"
      ]
     },
     "execution_count": 164,
     "metadata": {},
     "output_type": "execute_result"
    }
   ],
   "source": [
    "%%read_sql\n",
    "\n",
    "SELECT (Height*Width*Length) AS Volume_Calc\n",
    "FROM Products_3NF\n",
    "WHERE ProductDescription LIKE \"Russell Hobbs - Slow Cooker\"\n",
    "LIMIT 1;\n"
   ]
  },
  {
   "cell_type": "markdown",
   "metadata": {
    "id": "ZDogodiAGE04"
   },
   "source": [
    "Q9) Which user made the most transactions in the Year 2020?"
   ]
  },
  {
   "cell_type": "code",
   "execution_count": 165,
   "metadata": {
    "id": "PVUj_9THGE04"
   },
   "outputs": [
    {
     "name": "stdout",
     "output_type": "stream",
     "text": [
      "Query started at 12:40:44 AM South Africa Standard Time; Query executed in 0.00 m"
     ]
    },
    {
     "data": {
      "text/html": [
       "<div>\n",
       "<style scoped>\n",
       "    .dataframe tbody tr th:only-of-type {\n",
       "        vertical-align: middle;\n",
       "    }\n",
       "\n",
       "    .dataframe tbody tr th {\n",
       "        vertical-align: top;\n",
       "    }\n",
       "\n",
       "    .dataframe thead th {\n",
       "        text-align: right;\n",
       "    }\n",
       "</style>\n",
       "<table border=\"1\" class=\"dataframe\">\n",
       "  <thead>\n",
       "    <tr style=\"text-align: right;\">\n",
       "      <th></th>\n",
       "      <th>UserName</th>\n",
       "    </tr>\n",
       "  </thead>\n",
       "  <tbody>\n",
       "    <tr>\n",
       "      <th>0</th>\n",
       "      <td>Cornelis</td>\n",
       "    </tr>\n",
       "  </tbody>\n",
       "</table>\n",
       "</div>"
      ],
      "text/plain": [
       "   UserName\n",
       "0  Cornelis"
      ]
     },
     "execution_count": 165,
     "metadata": {},
     "output_type": "execute_result"
    }
   ],
   "source": [
    "%%read_sql\n",
    "\n",
    "SELECT UserName\n",
    "FROM (SELECT COUNT(Transactions_3NF.CartID) AS Total_Trans, UserName, Carts_3NF.InvoiceDate, Transactions_3NF.UserID\n",
    "     FROM Transactions_3NF\n",
    "     INNER JOIN Users_3NF\n",
    "     ON Transactions_3NF.UserID = Users_3NF.UserID\n",
    "      INNER JOIN Carts_3NF\n",
    "      ON Carts_3NF.CartID = Transactions_3NF.CartID\n",
    "     WHERE SUBSTR(InvoiceDate,1,4) = '2020'\n",
    "     GROUP BY Transactions_3NF.UserID\n",
    "     ORDER BY Total_Trans DESC)\n",
    "LIMIT 1;\n",
    "\n"
   ]
  },
  {
   "cell_type": "markdown",
   "metadata": {
    "id": "A_5dz4coGE04"
   },
   "source": [
    "Q10) What is the total number of users that shop at Bhejane?"
   ]
  },
  {
   "cell_type": "code",
   "execution_count": 166,
   "metadata": {
    "id": "gVDNbI7pGE04"
   },
   "outputs": [
    {
     "name": "stdout",
     "output_type": "stream",
     "text": [
      "Query started at 12:40:46 AM South Africa Standard Time; Query executed in 0.00 m"
     ]
    },
    {
     "data": {
      "text/html": [
       "<div>\n",
       "<style scoped>\n",
       "    .dataframe tbody tr th:only-of-type {\n",
       "        vertical-align: middle;\n",
       "    }\n",
       "\n",
       "    .dataframe tbody tr th {\n",
       "        vertical-align: top;\n",
       "    }\n",
       "\n",
       "    .dataframe thead th {\n",
       "        text-align: right;\n",
       "    }\n",
       "</style>\n",
       "<table border=\"1\" class=\"dataframe\">\n",
       "  <thead>\n",
       "    <tr style=\"text-align: right;\">\n",
       "      <th></th>\n",
       "      <th>COUNT(*)</th>\n",
       "    </tr>\n",
       "  </thead>\n",
       "  <tbody>\n",
       "    <tr>\n",
       "      <th>0</th>\n",
       "      <td>158</td>\n",
       "    </tr>\n",
       "  </tbody>\n",
       "</table>\n",
       "</div>"
      ],
      "text/plain": [
       "   COUNT(*)\n",
       "0       158"
      ]
     },
     "execution_count": 166,
     "metadata": {},
     "output_type": "execute_result"
    }
   ],
   "source": [
    "%%read_sql\n",
    "SELECT COUNT(*)\n",
    "FROM(SELECT DISTINCT UserName\n",
    "    FROM Users_3NF);\n"
   ]
  },
  {
   "cell_type": "markdown",
   "metadata": {
    "id": "8AS0LCOaGE04"
   },
   "source": [
    "Q11) What is the record count for the Colours_3NF Table?"
   ]
  },
  {
   "cell_type": "code",
   "execution_count": 167,
   "metadata": {
    "id": "9UdfWoubGE04"
   },
   "outputs": [
    {
     "name": "stdout",
     "output_type": "stream",
     "text": [
      "Query started at 12:40:47 AM South Africa Standard Time; Query executed in 0.00 m"
     ]
    },
    {
     "data": {
      "text/html": [
       "<div>\n",
       "<style scoped>\n",
       "    .dataframe tbody tr th:only-of-type {\n",
       "        vertical-align: middle;\n",
       "    }\n",
       "\n",
       "    .dataframe tbody tr th {\n",
       "        vertical-align: top;\n",
       "    }\n",
       "\n",
       "    .dataframe thead th {\n",
       "        text-align: right;\n",
       "    }\n",
       "</style>\n",
       "<table border=\"1\" class=\"dataframe\">\n",
       "  <thead>\n",
       "    <tr style=\"text-align: right;\">\n",
       "      <th></th>\n",
       "      <th>COUNT(*)</th>\n",
       "    </tr>\n",
       "  </thead>\n",
       "  <tbody>\n",
       "    <tr>\n",
       "      <th>0</th>\n",
       "      <td>17</td>\n",
       "    </tr>\n",
       "  </tbody>\n",
       "</table>\n",
       "</div>"
      ],
      "text/plain": [
       "   COUNT(*)\n",
       "0        17"
      ]
     },
     "execution_count": 167,
     "metadata": {},
     "output_type": "execute_result"
    }
   ],
   "source": [
    "%%read_sql\n",
    "SELECT COUNT(*)\n",
    "FROM (SELECT DISTINCT Colour\n",
    "     FROM Colours_3NF);\n"
   ]
  },
  {
   "cell_type": "markdown",
   "metadata": {
    "id": "TINkZg-7GE05"
   },
   "source": [
    "Q12) What would the total price be if I had the following items in my cart?\n",
    "* MPTAL57588104\n",
    "* 5000394203921\n",
    "* 6932391917652"
   ]
  },
  {
   "cell_type": "code",
   "execution_count": 168,
   "metadata": {
    "id": "82Bmwr7bGE05"
   },
   "outputs": [
    {
     "name": "stdout",
     "output_type": "stream",
     "text": [
      "Query started at 12:40:49 AM South Africa Standard Time; Query executed in 0.00 m"
     ]
    },
    {
     "data": {
      "text/html": [
       "<div>\n",
       "<style scoped>\n",
       "    .dataframe tbody tr th:only-of-type {\n",
       "        vertical-align: middle;\n",
       "    }\n",
       "\n",
       "    .dataframe tbody tr th {\n",
       "        vertical-align: top;\n",
       "    }\n",
       "\n",
       "    .dataframe thead th {\n",
       "        text-align: right;\n",
       "    }\n",
       "</style>\n",
       "<table border=\"1\" class=\"dataframe\">\n",
       "  <thead>\n",
       "    <tr style=\"text-align: right;\">\n",
       "      <th></th>\n",
       "      <th>Total Price</th>\n",
       "    </tr>\n",
       "  </thead>\n",
       "  <tbody>\n",
       "    <tr>\n",
       "      <th>0</th>\n",
       "      <td>734.0</td>\n",
       "    </tr>\n",
       "  </tbody>\n",
       "</table>\n",
       "</div>"
      ],
      "text/plain": [
       "   Total Price\n",
       "0        734.0"
      ]
     },
     "execution_count": 168,
     "metadata": {},
     "output_type": "execute_result"
    }
   ],
   "source": [
    "%%read_sql\n",
    "SELECT SUM(Price) as 'Total Price'\n",
    "FROM (SELECT DISTINCT Price, Barcode\n",
    "     FROM Products_3NF\n",
    "     WHERE Barcode in (\"MPTAL57588104\",\"5000394203921\",\"6932391917652\"));\n"
   ]
  },
  {
   "cell_type": "markdown",
   "metadata": {
    "id": "DGhN2UuaGE04"
   },
   "source": [
    "Q13) What is the barcode of the most sold product?"
   ]
  },
  {
   "cell_type": "code",
   "execution_count": 169,
   "metadata": {
    "id": "t5w4A2l1GE04"
   },
   "outputs": [
    {
     "name": "stdout",
     "output_type": "stream",
     "text": [
      "Query started at 12:40:51 AM South Africa Standard Time; Query executed in 0.00 m"
     ]
    },
    {
     "data": {
      "text/html": [
       "<div>\n",
       "<style scoped>\n",
       "    .dataframe tbody tr th:only-of-type {\n",
       "        vertical-align: middle;\n",
       "    }\n",
       "\n",
       "    .dataframe tbody tr th {\n",
       "        vertical-align: top;\n",
       "    }\n",
       "\n",
       "    .dataframe thead th {\n",
       "        text-align: right;\n",
       "    }\n",
       "</style>\n",
       "<table border=\"1\" class=\"dataframe\">\n",
       "  <thead>\n",
       "    <tr style=\"text-align: right;\">\n",
       "      <th></th>\n",
       "      <th>Barcode</th>\n",
       "    </tr>\n",
       "  </thead>\n",
       "  <tbody>\n",
       "    <tr>\n",
       "      <th>0</th>\n",
       "      <td>4015400541813</td>\n",
       "    </tr>\n",
       "  </tbody>\n",
       "</table>\n",
       "</div>"
      ],
      "text/plain": [
       "         Barcode\n",
       "0  4015400541813"
      ]
     },
     "execution_count": 169,
     "metadata": {},
     "output_type": "execute_result"
    }
   ],
   "source": [
    "%%read_sql\n",
    "SELECT Barcode\n",
    "FROM (SELECT Carts_3NF.CartID, Barcode\n",
    "     FROM Carts_3NF\n",
    "     INNER JOIN Transactions_3NF \n",
    "     ON Carts_3NF.CartID = Transactions_3NF.CartID\n",
    "     GROUP BY Barcode\n",
    "     ORDER BY COUNT(*) DESC)\n",
    "LIMIT 1;"
   ]
  },
  {
   "cell_type": "markdown",
   "metadata": {},
   "source": [
    "Q14) What are the products of Cornelis’ cart on the 2020-06-28 0:00:00?"
   ]
  },
  {
   "cell_type": "code",
   "execution_count": 187,
   "metadata": {
    "id": "8xipCT9JGE04"
   },
   "outputs": [
    {
     "name": "stdout",
     "output_type": "stream",
     "text": [
      "Query started at 01:08:42 AM South Africa Standard Time; Query executed in 0.00 m"
     ]
    },
    {
     "data": {
      "text/html": [
       "<div>\n",
       "<style scoped>\n",
       "    .dataframe tbody tr th:only-of-type {\n",
       "        vertical-align: middle;\n",
       "    }\n",
       "\n",
       "    .dataframe tbody tr th {\n",
       "        vertical-align: top;\n",
       "    }\n",
       "\n",
       "    .dataframe thead th {\n",
       "        text-align: right;\n",
       "    }\n",
       "</style>\n",
       "<table border=\"1\" class=\"dataframe\">\n",
       "  <thead>\n",
       "    <tr style=\"text-align: right;\">\n",
       "      <th></th>\n",
       "      <th>ProductDescription</th>\n",
       "    </tr>\n",
       "  </thead>\n",
       "  <tbody>\n",
       "    <tr>\n",
       "      <th>0</th>\n",
       "      <td>Dettol Body Wash - Shower Gel - Original - 600ml</td>\n",
       "    </tr>\n",
       "    <tr>\n",
       "      <th>1</th>\n",
       "      <td>Vitality Aloe Vera Gel 100ml</td>\n",
       "    </tr>\n",
       "    <tr>\n",
       "      <th>2</th>\n",
       "      <td>Sparq Active Resistance Loop Band - Set of 5 w...</td>\n",
       "    </tr>\n",
       "    <tr>\n",
       "      <th>3</th>\n",
       "      <td>Protective Face Shield</td>\n",
       "    </tr>\n",
       "  </tbody>\n",
       "</table>\n",
       "</div>"
      ],
      "text/plain": [
       "                                  ProductDescription\n",
       "0   Dettol Body Wash - Shower Gel - Original - 600ml\n",
       "1                       Vitality Aloe Vera Gel 100ml\n",
       "2  Sparq Active Resistance Loop Band - Set of 5 w...\n",
       "3                             Protective Face Shield"
      ]
     },
     "execution_count": 187,
     "metadata": {},
     "output_type": "execute_result"
    }
   ],
   "source": [
    "%%read_sql\n",
    "\n",
    "SELECT DISTINCT ProductDescription\n",
    "\n",
    "FROM (SELECT Products_3NF.Barcode, ProductDescription, UserName, InvoiceDate\n",
    "     FROM Users_3NF\n",
    "      INNER JOIN Transactions_3NF \n",
    "      ON Users_3NF.UserID = Transactions_3NF.UserID\n",
    "      INNER JOIN Products_3NF \n",
    "      ON Transactions_3NF.Barcode = Products_3NF.Barcode\n",
    "      INNER JOIN Carts_3NF\n",
    "      ON Transactions_3NF.CartID = Carts_3NF.CartID\n",
    "     )\n",
    "     \n",
    "WHERE UserName LIKE 'Cornelis' \n",
    "AND (SUBSTR(InvoiceDate,1,4) = '2020' AND SUBSTR(InvoiceDate,6,2) = '06' AND SUBSTR(InvoiceDate,9,2) = '28');"
   ]
  },
  {
   "cell_type": "markdown",
   "metadata": {},
   "source": [
    "Q15) Which users bought locally produced, black-coloured products on odd-numbered months of the year, and what was the total cost (rounded to the nearest integer) of the carts containing these products?"
   ]
  },
  {
   "cell_type": "code",
   "execution_count": 197,
   "metadata": {},
   "outputs": [
    {
     "name": "stdout",
     "output_type": "stream",
     "text": [
      "Query started at 01:13:02 AM South Africa Standard Time; Query executed in 0.00 m"
     ]
    },
    {
     "data": {
      "text/html": [
       "<div>\n",
       "<style scoped>\n",
       "    .dataframe tbody tr th:only-of-type {\n",
       "        vertical-align: middle;\n",
       "    }\n",
       "\n",
       "    .dataframe tbody tr th {\n",
       "        vertical-align: top;\n",
       "    }\n",
       "\n",
       "    .dataframe thead th {\n",
       "        text-align: right;\n",
       "    }\n",
       "</style>\n",
       "<table border=\"1\" class=\"dataframe\">\n",
       "  <thead>\n",
       "    <tr style=\"text-align: right;\">\n",
       "      <th></th>\n",
       "      <th>Price</th>\n",
       "      <th>UserName</th>\n",
       "      <th>InvoiceDate</th>\n",
       "      <th>StockCountry</th>\n",
       "      <th>LocationID</th>\n",
       "    </tr>\n",
       "  </thead>\n",
       "  <tbody>\n",
       "    <tr>\n",
       "      <th>0</th>\n",
       "      <td>399.0</td>\n",
       "      <td>DIMPHO</td>\n",
       "      <td>2020-07-02 0:00:00</td>\n",
       "      <td>South Africa</td>\n",
       "      <td>1.0</td>\n",
       "    </tr>\n",
       "    <tr>\n",
       "      <th>1</th>\n",
       "      <td>399.0</td>\n",
       "      <td>DIMPHO</td>\n",
       "      <td>2020-07-02 0:00:00</td>\n",
       "      <td>South Africa</td>\n",
       "      <td>1.0</td>\n",
       "    </tr>\n",
       "    <tr>\n",
       "      <th>2</th>\n",
       "      <td>149.0</td>\n",
       "      <td>Hendrik</td>\n",
       "      <td>2020-08-05 0:00:00</td>\n",
       "      <td>None</td>\n",
       "      <td>NaN</td>\n",
       "    </tr>\n",
       "    <tr>\n",
       "      <th>3</th>\n",
       "      <td>99.0</td>\n",
       "      <td>Faristha</td>\n",
       "      <td>2020-07-29 0:00:00</td>\n",
       "      <td>None</td>\n",
       "      <td>NaN</td>\n",
       "    </tr>\n",
       "    <tr>\n",
       "      <th>4</th>\n",
       "      <td>99.0</td>\n",
       "      <td>Faristha</td>\n",
       "      <td>2020-07-29 0:00:00</td>\n",
       "      <td>None</td>\n",
       "      <td>NaN</td>\n",
       "    </tr>\n",
       "    <tr>\n",
       "      <th>...</th>\n",
       "      <td>...</td>\n",
       "      <td>...</td>\n",
       "      <td>...</td>\n",
       "      <td>...</td>\n",
       "      <td>...</td>\n",
       "    </tr>\n",
       "    <tr>\n",
       "      <th>488</th>\n",
       "      <td>279.0</td>\n",
       "      <td>Heather</td>\n",
       "      <td>2020-04-22 0:00:00</td>\n",
       "      <td>None</td>\n",
       "      <td>NaN</td>\n",
       "    </tr>\n",
       "    <tr>\n",
       "      <th>489</th>\n",
       "      <td>279.0</td>\n",
       "      <td>Heather</td>\n",
       "      <td>2020-04-22 0:00:00</td>\n",
       "      <td>None</td>\n",
       "      <td>NaN</td>\n",
       "    </tr>\n",
       "    <tr>\n",
       "      <th>490</th>\n",
       "      <td>279.0</td>\n",
       "      <td>Heather</td>\n",
       "      <td>2020-04-22 0:00:00</td>\n",
       "      <td>None</td>\n",
       "      <td>NaN</td>\n",
       "    </tr>\n",
       "    <tr>\n",
       "      <th>491</th>\n",
       "      <td>279.0</td>\n",
       "      <td>Heather</td>\n",
       "      <td>2020-04-22 0:00:00</td>\n",
       "      <td>None</td>\n",
       "      <td>NaN</td>\n",
       "    </tr>\n",
       "    <tr>\n",
       "      <th>492</th>\n",
       "      <td>279.0</td>\n",
       "      <td>Heather</td>\n",
       "      <td>2020-04-22 0:00:00</td>\n",
       "      <td>None</td>\n",
       "      <td>NaN</td>\n",
       "    </tr>\n",
       "  </tbody>\n",
       "</table>\n",
       "<p>493 rows × 5 columns</p>\n",
       "</div>"
      ],
      "text/plain": [
       "     Price  UserName         InvoiceDate  StockCountry  LocationID\n",
       "0    399.0    DIMPHO  2020-07-02 0:00:00  South Africa         1.0\n",
       "1    399.0    DIMPHO  2020-07-02 0:00:00  South Africa         1.0\n",
       "2    149.0   Hendrik  2020-08-05 0:00:00          None         NaN\n",
       "3     99.0  Faristha  2020-07-29 0:00:00          None         NaN\n",
       "4     99.0  Faristha  2020-07-29 0:00:00          None         NaN\n",
       "..     ...       ...                 ...           ...         ...\n",
       "488  279.0   Heather  2020-04-22 0:00:00          None         NaN\n",
       "489  279.0   Heather  2020-04-22 0:00:00          None         NaN\n",
       "490  279.0   Heather  2020-04-22 0:00:00          None         NaN\n",
       "491  279.0   Heather  2020-04-22 0:00:00          None         NaN\n",
       "492  279.0   Heather  2020-04-22 0:00:00          None         NaN\n",
       "\n",
       "[493 rows x 5 columns]"
      ]
     },
     "execution_count": 197,
     "metadata": {},
     "output_type": "execute_result"
    }
   ],
   "source": [
    "%%read_sql\n",
    "\n",
    "SELECT Price, UserName,InvoiceDate , StockCountry, L.LocationID\n",
    "     FROM Transactions_3NF AS T\n",
    "     LEFT JOIN Products_3NF AS P\n",
    "     ON T.Barcode = P.Barcode\n",
    "     LEFT JOIN Colours_3NF AS C\n",
    "      ON C.ColourID = P.ColourID\n",
    "      LEFT JOIN Locations_3NF AS L\n",
    "      ON P.LocationID = L.LocationID\n",
    "      LEFT JOIN Users_3NF AS U\n",
    "      ON T.UserID = U.UserID\n",
    "      LEFT JOIN Carts_3NF\n",
    "     ON T.CartID = Carts_3NF.CartID\n",
    "      \n",
    "     -- WHERE StockCountry LIKE \"%South Africa%\" \n",
    "     -- AND Colour LIKE '%Black%' AND (CAST(SUBSTR(InvoiceDate,6,2) AS INT)%2 = 1)"
   ]
  },
  {
   "cell_type": "code",
   "execution_count": 198,
   "metadata": {},
   "outputs": [
    {
     "name": "stdout",
     "output_type": "stream",
     "text": [
      "Query started at 01:19:33 AM South Africa Standard Time; Query executed in 0.00 m"
     ]
    },
    {
     "data": {
      "text/html": [
       "<div>\n",
       "<style scoped>\n",
       "    .dataframe tbody tr th:only-of-type {\n",
       "        vertical-align: middle;\n",
       "    }\n",
       "\n",
       "    .dataframe tbody tr th {\n",
       "        vertical-align: top;\n",
       "    }\n",
       "\n",
       "    .dataframe thead th {\n",
       "        text-align: right;\n",
       "    }\n",
       "</style>\n",
       "<table border=\"1\" class=\"dataframe\">\n",
       "  <thead>\n",
       "    <tr style=\"text-align: right;\">\n",
       "      <th></th>\n",
       "      <th>RegistryID</th>\n",
       "      <th>Barcode</th>\n",
       "      <th>ProductDescription</th>\n",
       "      <th>Price</th>\n",
       "      <th>Quantity</th>\n",
       "      <th>Weight_kg</th>\n",
       "      <th>Volume_litre</th>\n",
       "      <th>Length</th>\n",
       "      <th>Width</th>\n",
       "      <th>Height</th>\n",
       "      <th>PathID</th>\n",
       "      <th>ItemID</th>\n",
       "      <th>ColourID</th>\n",
       "      <th>BrandID</th>\n",
       "      <th>LocationID</th>\n",
       "    </tr>\n",
       "  </thead>\n",
       "  <tbody>\n",
       "    <tr>\n",
       "      <th>0</th>\n",
       "      <td>1</td>\n",
       "      <td>300507946</td>\n",
       "      <td>Hikvision 1080P 2MP Turbo HD IR Bullet Camera</td>\n",
       "      <td>399.0</td>\n",
       "      <td>493</td>\n",
       "      <td></td>\n",
       "      <td>0.0</td>\n",
       "      <td></td>\n",
       "      <td></td>\n",
       "      <td></td>\n",
       "      <td>11</td>\n",
       "      <td>1.0</td>\n",
       "      <td>NaN</td>\n",
       "      <td>NaN</td>\n",
       "      <td>1.0</td>\n",
       "    </tr>\n",
       "    <tr>\n",
       "      <th>1</th>\n",
       "      <td>2</td>\n",
       "      <td>300507946</td>\n",
       "      <td>Hikvision 1080P 2MP Turbo HD IR Bullet Camera</td>\n",
       "      <td>399.0</td>\n",
       "      <td>493</td>\n",
       "      <td></td>\n",
       "      <td>0.0</td>\n",
       "      <td></td>\n",
       "      <td></td>\n",
       "      <td></td>\n",
       "      <td>11</td>\n",
       "      <td>2.0</td>\n",
       "      <td>NaN</td>\n",
       "      <td>NaN</td>\n",
       "      <td>1.0</td>\n",
       "    </tr>\n",
       "    <tr>\n",
       "      <th>2</th>\n",
       "      <td>3</td>\n",
       "      <td>10325354918</td>\n",
       "      <td>ZEE 3-in-1 Unisex Gaiter</td>\n",
       "      <td>139.0</td>\n",
       "      <td>467</td>\n",
       "      <td></td>\n",
       "      <td>0.0</td>\n",
       "      <td></td>\n",
       "      <td></td>\n",
       "      <td></td>\n",
       "      <td>1</td>\n",
       "      <td>NaN</td>\n",
       "      <td>1.0</td>\n",
       "      <td>NaN</td>\n",
       "      <td>2.0</td>\n",
       "    </tr>\n",
       "    <tr>\n",
       "      <th>3</th>\n",
       "      <td>4</td>\n",
       "      <td>27131187035</td>\n",
       "      <td>Estee Lauder Double Wear Stay In Place Makeup</td>\n",
       "      <td>655.0</td>\n",
       "      <td>275</td>\n",
       "      <td></td>\n",
       "      <td>0.0</td>\n",
       "      <td></td>\n",
       "      <td></td>\n",
       "      <td></td>\n",
       "      <td>8</td>\n",
       "      <td>NaN</td>\n",
       "      <td>2.0</td>\n",
       "      <td>1.0</td>\n",
       "      <td>3.0</td>\n",
       "    </tr>\n",
       "    <tr>\n",
       "      <th>4</th>\n",
       "      <td>5</td>\n",
       "      <td>27131187035</td>\n",
       "      <td>Estee Lauder Double Wear Stay In Place Makeup</td>\n",
       "      <td>655.0</td>\n",
       "      <td>275</td>\n",
       "      <td></td>\n",
       "      <td>0.0</td>\n",
       "      <td></td>\n",
       "      <td></td>\n",
       "      <td></td>\n",
       "      <td>9</td>\n",
       "      <td>NaN</td>\n",
       "      <td>2.0</td>\n",
       "      <td>1.0</td>\n",
       "      <td>3.0</td>\n",
       "    </tr>\n",
       "    <tr>\n",
       "      <th>...</th>\n",
       "      <td>...</td>\n",
       "      <td>...</td>\n",
       "      <td>...</td>\n",
       "      <td>...</td>\n",
       "      <td>...</td>\n",
       "      <td>...</td>\n",
       "      <td>...</td>\n",
       "      <td>...</td>\n",
       "      <td>...</td>\n",
       "      <td>...</td>\n",
       "      <td>...</td>\n",
       "      <td>...</td>\n",
       "      <td>...</td>\n",
       "      <td>...</td>\n",
       "      <td>...</td>\n",
       "    </tr>\n",
       "    <tr>\n",
       "      <th>1209</th>\n",
       "      <td>1210</td>\n",
       "      <td>TAL00035388021</td>\n",
       "      <td>Angelcare - Nappy Bin Refill - 3 Pack</td>\n",
       "      <td>269.0</td>\n",
       "      <td>220</td>\n",
       "      <td></td>\n",
       "      <td>0.0</td>\n",
       "      <td></td>\n",
       "      <td></td>\n",
       "      <td></td>\n",
       "      <td>396</td>\n",
       "      <td>599.0</td>\n",
       "      <td>7.0</td>\n",
       "      <td>1.0</td>\n",
       "      <td>232.0</td>\n",
       "    </tr>\n",
       "    <tr>\n",
       "      <th>1210</th>\n",
       "      <td>1211</td>\n",
       "      <td>TAL00035388021</td>\n",
       "      <td>Angelcare - Nappy Bin Refill - 3 Pack</td>\n",
       "      <td>269.0</td>\n",
       "      <td>220</td>\n",
       "      <td></td>\n",
       "      <td>0.0</td>\n",
       "      <td></td>\n",
       "      <td></td>\n",
       "      <td></td>\n",
       "      <td>395</td>\n",
       "      <td>599.0</td>\n",
       "      <td>7.0</td>\n",
       "      <td>1.0</td>\n",
       "      <td>232.0</td>\n",
       "    </tr>\n",
       "    <tr>\n",
       "      <th>1211</th>\n",
       "      <td>1212</td>\n",
       "      <td>TAL00035388407</td>\n",
       "      <td>Pampers Complete Clean Baby Wipes - 6 x 64 - 3...</td>\n",
       "      <td>159.0</td>\n",
       "      <td>130</td>\n",
       "      <td></td>\n",
       "      <td>0.0</td>\n",
       "      <td>19,8</td>\n",
       "      <td>21,3</td>\n",
       "      <td>3,2</td>\n",
       "      <td>15</td>\n",
       "      <td>600.0</td>\n",
       "      <td>4.0</td>\n",
       "      <td>1.0</td>\n",
       "      <td>31.0</td>\n",
       "    </tr>\n",
       "    <tr>\n",
       "      <th>1212</th>\n",
       "      <td>1213</td>\n",
       "      <td>TAL00035394505</td>\n",
       "      <td>RCT 650VA Line Interactive UPS</td>\n",
       "      <td>675.0</td>\n",
       "      <td>410</td>\n",
       "      <td></td>\n",
       "      <td>10,72678</td>\n",
       "      <td></td>\n",
       "      <td></td>\n",
       "      <td></td>\n",
       "      <td>271</td>\n",
       "      <td>39.0</td>\n",
       "      <td>NaN</td>\n",
       "      <td>1.0</td>\n",
       "      <td>15.0</td>\n",
       "    </tr>\n",
       "    <tr>\n",
       "      <th>1213</th>\n",
       "      <td>1214</td>\n",
       "      <td>TAL00035395957</td>\n",
       "      <td>Fujifilm Instax Film plain - Pack of 10</td>\n",
       "      <td>155.0</td>\n",
       "      <td>119</td>\n",
       "      <td></td>\n",
       "      <td>0.0</td>\n",
       "      <td></td>\n",
       "      <td></td>\n",
       "      <td></td>\n",
       "      <td>38</td>\n",
       "      <td>NaN</td>\n",
       "      <td>NaN</td>\n",
       "      <td>1.0</td>\n",
       "      <td>35.0</td>\n",
       "    </tr>\n",
       "  </tbody>\n",
       "</table>\n",
       "<p>1214 rows × 15 columns</p>\n",
       "</div>"
      ],
      "text/plain": [
       "      RegistryID         Barcode  \\\n",
       "0              1       300507946   \n",
       "1              2       300507946   \n",
       "2              3     10325354918   \n",
       "3              4     27131187035   \n",
       "4              5     27131187035   \n",
       "...          ...             ...   \n",
       "1209        1210  TAL00035388021   \n",
       "1210        1211  TAL00035388021   \n",
       "1211        1212  TAL00035388407   \n",
       "1212        1213  TAL00035394505   \n",
       "1213        1214  TAL00035395957   \n",
       "\n",
       "                                     ProductDescription  Price  Quantity  \\\n",
       "0         Hikvision 1080P 2MP Turbo HD IR Bullet Camera  399.0       493   \n",
       "1         Hikvision 1080P 2MP Turbo HD IR Bullet Camera  399.0       493   \n",
       "2                              ZEE 3-in-1 Unisex Gaiter  139.0       467   \n",
       "3         Estee Lauder Double Wear Stay In Place Makeup  655.0       275   \n",
       "4         Estee Lauder Double Wear Stay In Place Makeup  655.0       275   \n",
       "...                                                 ...    ...       ...   \n",
       "1209              Angelcare - Nappy Bin Refill - 3 Pack  269.0       220   \n",
       "1210              Angelcare - Nappy Bin Refill - 3 Pack  269.0       220   \n",
       "1211  Pampers Complete Clean Baby Wipes - 6 x 64 - 3...  159.0       130   \n",
       "1212                     RCT 650VA Line Interactive UPS  675.0       410   \n",
       "1213            Fujifilm Instax Film plain - Pack of 10  155.0       119   \n",
       "\n",
       "     Weight_kg Volume_litre Length Width Height  PathID  ItemID  ColourID  \\\n",
       "0                       0.0                          11     1.0       NaN   \n",
       "1                       0.0                          11     2.0       NaN   \n",
       "2                       0.0                           1     NaN       1.0   \n",
       "3                       0.0                           8     NaN       2.0   \n",
       "4                       0.0                           9     NaN       2.0   \n",
       "...        ...          ...    ...   ...    ...     ...     ...       ...   \n",
       "1209                    0.0                         396   599.0       7.0   \n",
       "1210                    0.0                         395   599.0       7.0   \n",
       "1211                    0.0   19,8  21,3    3,2      15   600.0       4.0   \n",
       "1212               10,72678                         271    39.0       NaN   \n",
       "1213                    0.0                          38     NaN       NaN   \n",
       "\n",
       "      BrandID  LocationID  \n",
       "0         NaN         1.0  \n",
       "1         NaN         1.0  \n",
       "2         NaN         2.0  \n",
       "3         1.0         3.0  \n",
       "4         1.0         3.0  \n",
       "...       ...         ...  \n",
       "1209      1.0       232.0  \n",
       "1210      1.0       232.0  \n",
       "1211      1.0        31.0  \n",
       "1212      1.0        15.0  \n",
       "1213      1.0        35.0  \n",
       "\n",
       "[1214 rows x 15 columns]"
      ]
     },
     "execution_count": 198,
     "metadata": {},
     "output_type": "execute_result"
    }
   ],
   "source": [
    "%%read_sql\n",
    "SELECT *\n",
    "FROM Products_3NF\n"
   ]
  },
  {
   "cell_type": "code",
   "execution_count": null,
   "metadata": {},
   "outputs": [],
   "source": []
  }
 ],
 "metadata": {
  "colab": {
   "collapsed_sections": [],
   "name": "SQL_Predict_Student_Notebook.ipynb",
   "provenance": []
  },
  "interpreter": {
   "hash": "6b5ebbc2c6bde2831bc6c0426f75aca8137ccfc69d329557556ed73faee126ae"
  },
  "kernelspec": {
   "display_name": "Python 3",
   "language": "python",
   "name": "python3"
  },
  "language_info": {
   "codemirror_mode": {
    "name": "ipython",
    "version": 3
   },
   "file_extension": ".py",
   "mimetype": "text/x-python",
   "name": "python",
   "nbconvert_exporter": "python",
   "pygments_lexer": "ipython3",
   "version": "3.8.8"
  }
 },
 "nbformat": 4,
 "nbformat_minor": 4
}
